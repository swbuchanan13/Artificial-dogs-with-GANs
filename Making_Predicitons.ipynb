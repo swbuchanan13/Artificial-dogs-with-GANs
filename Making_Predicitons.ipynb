{
  "nbformat": 4,
  "nbformat_minor": 0,
  "metadata": {
    "colab": {
      "name": "Making Predicitons",
      "provenance": [],
      "toc_visible": true
    },
    "kernelspec": {
      "name": "python3",
      "display_name": "Python 3"
    },
    "accelerator": "GPU"
  },
  "cells": [
    {
      "cell_type": "code",
      "metadata": {
        "id": "3aNwQPNr_eL0",
        "colab_type": "code",
        "colab": {}
      },
      "source": [
        "%reload_ext autoreload\n",
        "%autoreload 2\n",
        "%matplotlib inline\n",
        "\n",
        "import pandas as pd\n",
        "import numpy as np\n",
        "import lxml.etree as ET\n",
        "from bs4 import BeautifulSoup\n",
        "import os\n",
        "import spacy\n",
        "import string\n",
        "import re\n",
        "from tqdm.notebook import tqdm\n",
        "import math\n",
        "import numpy as np\n",
        "from spacy.symbols import ORTH\n",
        "from pathlib import Path\n",
        "from collections import Counter\n",
        "from collections import defaultdict\n",
        "from sklearn.model_selection import train_test_split\n",
        "\n",
        "import torch\n",
        "import torch.nn as nn\n",
        "import torch.optim as optim\n",
        "import torch.nn.functional as F\n",
        "from torch.utils.data import Dataset, DataLoader\n",
        "from torchvision import models\n",
        "from torch.nn.utils.rnn import pack_padded_sequence, pad_packed_sequence\n",
        "\n",
        "import cv2\n",
        "import matplotlib.pyplot as plt"
      ],
      "execution_count": 16,
      "outputs": []
    },
    {
      "cell_type": "code",
      "metadata": {
        "id": "y6muhA-n_jEe",
        "colab_type": "code",
        "colab": {
          "base_uri": "https://localhost:8080/",
          "height": 54
        },
        "outputId": "b8a6ef52-25a2-45fd-daf8-7155519d165f"
      },
      "source": [
        "from google.colab import drive\n",
        "drive.mount('/content/gdrive')"
      ],
      "execution_count": 17,
      "outputs": [
        {
          "output_type": "stream",
          "text": [
            "Drive already mounted at /content/gdrive; to attempt to forcibly remount, call drive.mount(\"/content/gdrive\", force_remount=True).\n"
          ],
          "name": "stdout"
        }
      ]
    },
    {
      "cell_type": "markdown",
      "metadata": {
        "id": "MbCR7He-rZBd",
        "colab_type": "text"
      },
      "source": [
        "## Test Images"
      ]
    },
    {
      "cell_type": "code",
      "metadata": {
        "id": "8UfvODXIrcfG",
        "colab_type": "code",
        "colab": {
          "base_uri": "https://localhost:8080/",
          "height": 153
        },
        "outputId": "c1fc3d07-195d-4b72-9c6f-bdc3b625b4f0"
      },
      "source": [
        "! pip install gdown"
      ],
      "execution_count": null,
      "outputs": [
        {
          "output_type": "stream",
          "text": [
            "Requirement already satisfied: gdown in /usr/local/lib/python3.6/dist-packages (3.6.4)\n",
            "Requirement already satisfied: requests in /usr/local/lib/python3.6/dist-packages (from gdown) (2.23.0)\n",
            "Requirement already satisfied: six in /usr/local/lib/python3.6/dist-packages (from gdown) (1.12.0)\n",
            "Requirement already satisfied: tqdm in /usr/local/lib/python3.6/dist-packages (from gdown) (4.41.1)\n",
            "Requirement already satisfied: certifi>=2017.4.17 in /usr/local/lib/python3.6/dist-packages (from requests->gdown) (2020.4.5.2)\n",
            "Requirement already satisfied: urllib3!=1.25.0,!=1.25.1,<1.26,>=1.21.1 in /usr/local/lib/python3.6/dist-packages (from requests->gdown) (1.24.3)\n",
            "Requirement already satisfied: idna<3,>=2.5 in /usr/local/lib/python3.6/dist-packages (from requests->gdown) (2.9)\n",
            "Requirement already satisfied: chardet<4,>=3.0.2 in /usr/local/lib/python3.6/dist-packages (from requests->gdown) (3.0.4)\n"
          ],
          "name": "stdout"
        }
      ]
    },
    {
      "cell_type": "code",
      "metadata": {
        "id": "J7ezrLwsrepn",
        "colab_type": "code",
        "colab": {
          "base_uri": "https://localhost:8080/",
          "height": 85
        },
        "outputId": "9a1cd79e-19c7-41f3-b58f-029afe1cf2a5"
      },
      "source": [
        "! gdown https://drive.google.com/uc?id=1E-B-9fBwmACjWYkFWpmgb971WSqWo7hd"
      ],
      "execution_count": 1,
      "outputs": [
        {
          "output_type": "stream",
          "text": [
            "Downloading...\n",
            "From: https://drive.google.com/uc?id=1E-B-9fBwmACjWYkFWpmgb971WSqWo7hd\n",
            "To: /content/GanTest_Images.zip\n",
            "\r  0% 0.00/268k [00:00<?, ?B/s]\r100% 268k/268k [00:00<00:00, 97.2MB/s]\n"
          ],
          "name": "stdout"
        }
      ]
    },
    {
      "cell_type": "code",
      "metadata": {
        "id": "IlZ7GdZTrssW",
        "colab_type": "code",
        "colab": {}
      },
      "source": [
        "! unzip GanTest_Images.zip > /dev/null"
      ],
      "execution_count": 2,
      "outputs": []
    },
    {
      "cell_type": "code",
      "metadata": {
        "id": "-ZiuA_oN_nNQ",
        "colab_type": "code",
        "colab": {}
      },
      "source": [
        "grootpath = Path('/content/gdrive/My Drive/Colab Notebooks/deep_learning/DoggyGANs')"
      ],
      "execution_count": 18,
      "outputs": []
    },
    {
      "cell_type": "code",
      "metadata": {
        "id": "_r6QcJczAMnc",
        "colab_type": "code",
        "colab": {
          "base_uri": "https://localhost:8080/",
          "height": 204
        },
        "outputId": "2aaa8af9-9110-451f-a7e8-58af2549b693"
      },
      "source": [
        "train_df = pd.read_csv(grootpath/'generative-dog-images/files.csv')\n",
        "train_df.head()"
      ],
      "execution_count": 19,
      "outputs": [
        {
          "output_type": "execute_result",
          "data": {
            "text/html": [
              "<div>\n",
              "<style scoped>\n",
              "    .dataframe tbody tr th:only-of-type {\n",
              "        vertical-align: middle;\n",
              "    }\n",
              "\n",
              "    .dataframe tbody tr th {\n",
              "        vertical-align: top;\n",
              "    }\n",
              "\n",
              "    .dataframe thead th {\n",
              "        text-align: right;\n",
              "    }\n",
              "</style>\n",
              "<table border=\"1\" class=\"dataframe\">\n",
              "  <thead>\n",
              "    <tr style=\"text-align: right;\">\n",
              "      <th></th>\n",
              "      <th>f_name</th>\n",
              "      <th>f_subname</th>\n",
              "      <th>label</th>\n",
              "    </tr>\n",
              "  </thead>\n",
              "  <tbody>\n",
              "    <tr>\n",
              "      <th>0</th>\n",
              "      <td>generative-dog-images/resized/n02109961_16718.jpg</td>\n",
              "      <td>n02109961_16718</td>\n",
              "      <td>Eskimo_dog</td>\n",
              "    </tr>\n",
              "    <tr>\n",
              "      <th>1</th>\n",
              "      <td>generative-dog-images/resized/n02113799_5009.jpg</td>\n",
              "      <td>n02113799_5009</td>\n",
              "      <td>standard_poodle</td>\n",
              "    </tr>\n",
              "    <tr>\n",
              "      <th>2</th>\n",
              "      <td>generative-dog-images/resized/n02091032_6587.jpg</td>\n",
              "      <td>n02091032_6587</td>\n",
              "      <td>Italian_greyhound</td>\n",
              "    </tr>\n",
              "    <tr>\n",
              "      <th>3</th>\n",
              "      <td>generative-dog-images/resized/n02106166_1429.jpg</td>\n",
              "      <td>n02106166_1429</td>\n",
              "      <td>Border_collie</td>\n",
              "    </tr>\n",
              "    <tr>\n",
              "      <th>4</th>\n",
              "      <td>generative-dog-images/resized/n02093754_2276.jpg</td>\n",
              "      <td>n02093754_2276</td>\n",
              "      <td>Border_terrier</td>\n",
              "    </tr>\n",
              "  </tbody>\n",
              "</table>\n",
              "</div>"
            ],
            "text/plain": [
              "                                              f_name  ...              label\n",
              "0  generative-dog-images/resized/n02109961_16718.jpg  ...         Eskimo_dog\n",
              "1   generative-dog-images/resized/n02113799_5009.jpg  ...    standard_poodle\n",
              "2   generative-dog-images/resized/n02091032_6587.jpg  ...  Italian_greyhound\n",
              "3   generative-dog-images/resized/n02106166_1429.jpg  ...      Border_collie\n",
              "4   generative-dog-images/resized/n02093754_2276.jpg  ...     Border_terrier\n",
              "\n",
              "[5 rows x 3 columns]"
            ]
          },
          "metadata": {
            "tags": []
          },
          "execution_count": 19
        }
      ]
    },
    {
      "cell_type": "code",
      "metadata": {
        "id": "EVlVgeAhAOcb",
        "colab_type": "code",
        "colab": {
          "base_uri": "https://localhost:8080/",
          "height": 289
        },
        "outputId": "8d763403-c90f-43d6-9e08-aaa132776898"
      },
      "source": [
        "gimage_path = Path(grootpath/'generative-dog-images/resized/')\n",
        "train_df['g_name'] = train_df['f_name'].apply(lambda x: str(gimage_path) + '/' + x.split('/')[-1])\n",
        "train_df.head()"
      ],
      "execution_count": 20,
      "outputs": [
        {
          "output_type": "execute_result",
          "data": {
            "text/html": [
              "<div>\n",
              "<style scoped>\n",
              "    .dataframe tbody tr th:only-of-type {\n",
              "        vertical-align: middle;\n",
              "    }\n",
              "\n",
              "    .dataframe tbody tr th {\n",
              "        vertical-align: top;\n",
              "    }\n",
              "\n",
              "    .dataframe thead th {\n",
              "        text-align: right;\n",
              "    }\n",
              "</style>\n",
              "<table border=\"1\" class=\"dataframe\">\n",
              "  <thead>\n",
              "    <tr style=\"text-align: right;\">\n",
              "      <th></th>\n",
              "      <th>f_name</th>\n",
              "      <th>f_subname</th>\n",
              "      <th>label</th>\n",
              "      <th>g_name</th>\n",
              "    </tr>\n",
              "  </thead>\n",
              "  <tbody>\n",
              "    <tr>\n",
              "      <th>0</th>\n",
              "      <td>generative-dog-images/resized/n02109961_16718.jpg</td>\n",
              "      <td>n02109961_16718</td>\n",
              "      <td>Eskimo_dog</td>\n",
              "      <td>/content/gdrive/My Drive/Colab Notebooks/deep_...</td>\n",
              "    </tr>\n",
              "    <tr>\n",
              "      <th>1</th>\n",
              "      <td>generative-dog-images/resized/n02113799_5009.jpg</td>\n",
              "      <td>n02113799_5009</td>\n",
              "      <td>standard_poodle</td>\n",
              "      <td>/content/gdrive/My Drive/Colab Notebooks/deep_...</td>\n",
              "    </tr>\n",
              "    <tr>\n",
              "      <th>2</th>\n",
              "      <td>generative-dog-images/resized/n02091032_6587.jpg</td>\n",
              "      <td>n02091032_6587</td>\n",
              "      <td>Italian_greyhound</td>\n",
              "      <td>/content/gdrive/My Drive/Colab Notebooks/deep_...</td>\n",
              "    </tr>\n",
              "    <tr>\n",
              "      <th>3</th>\n",
              "      <td>generative-dog-images/resized/n02106166_1429.jpg</td>\n",
              "      <td>n02106166_1429</td>\n",
              "      <td>Border_collie</td>\n",
              "      <td>/content/gdrive/My Drive/Colab Notebooks/deep_...</td>\n",
              "    </tr>\n",
              "    <tr>\n",
              "      <th>4</th>\n",
              "      <td>generative-dog-images/resized/n02093754_2276.jpg</td>\n",
              "      <td>n02093754_2276</td>\n",
              "      <td>Border_terrier</td>\n",
              "      <td>/content/gdrive/My Drive/Colab Notebooks/deep_...</td>\n",
              "    </tr>\n",
              "  </tbody>\n",
              "</table>\n",
              "</div>"
            ],
            "text/plain": [
              "                                              f_name  ...                                             g_name\n",
              "0  generative-dog-images/resized/n02109961_16718.jpg  ...  /content/gdrive/My Drive/Colab Notebooks/deep_...\n",
              "1   generative-dog-images/resized/n02113799_5009.jpg  ...  /content/gdrive/My Drive/Colab Notebooks/deep_...\n",
              "2   generative-dog-images/resized/n02091032_6587.jpg  ...  /content/gdrive/My Drive/Colab Notebooks/deep_...\n",
              "3   generative-dog-images/resized/n02106166_1429.jpg  ...  /content/gdrive/My Drive/Colab Notebooks/deep_...\n",
              "4   generative-dog-images/resized/n02093754_2276.jpg  ...  /content/gdrive/My Drive/Colab Notebooks/deep_...\n",
              "\n",
              "[5 rows x 4 columns]"
            ]
          },
          "metadata": {
            "tags": []
          },
          "execution_count": 20
        }
      ]
    },
    {
      "cell_type": "code",
      "metadata": {
        "id": "BqDVbnkJAQVq",
        "colab_type": "code",
        "colab": {
          "base_uri": "https://localhost:8080/",
          "height": 394
        },
        "outputId": "0c9a7403-7c61-49bd-b9ae-fc15da423e19"
      },
      "source": [
        "train_df['colab_path'] = train_df['f_subname'].apply(lambda x: f\"resized/{x}.jpg\")\n",
        "train_df.head()"
      ],
      "execution_count": 21,
      "outputs": [
        {
          "output_type": "execute_result",
          "data": {
            "text/html": [
              "<div>\n",
              "<style scoped>\n",
              "    .dataframe tbody tr th:only-of-type {\n",
              "        vertical-align: middle;\n",
              "    }\n",
              "\n",
              "    .dataframe tbody tr th {\n",
              "        vertical-align: top;\n",
              "    }\n",
              "\n",
              "    .dataframe thead th {\n",
              "        text-align: right;\n",
              "    }\n",
              "</style>\n",
              "<table border=\"1\" class=\"dataframe\">\n",
              "  <thead>\n",
              "    <tr style=\"text-align: right;\">\n",
              "      <th></th>\n",
              "      <th>f_name</th>\n",
              "      <th>f_subname</th>\n",
              "      <th>label</th>\n",
              "      <th>g_name</th>\n",
              "      <th>colab_path</th>\n",
              "    </tr>\n",
              "  </thead>\n",
              "  <tbody>\n",
              "    <tr>\n",
              "      <th>0</th>\n",
              "      <td>generative-dog-images/resized/n02109961_16718.jpg</td>\n",
              "      <td>n02109961_16718</td>\n",
              "      <td>Eskimo_dog</td>\n",
              "      <td>/content/gdrive/My Drive/Colab Notebooks/deep_...</td>\n",
              "      <td>resized/n02109961_16718.jpg</td>\n",
              "    </tr>\n",
              "    <tr>\n",
              "      <th>1</th>\n",
              "      <td>generative-dog-images/resized/n02113799_5009.jpg</td>\n",
              "      <td>n02113799_5009</td>\n",
              "      <td>standard_poodle</td>\n",
              "      <td>/content/gdrive/My Drive/Colab Notebooks/deep_...</td>\n",
              "      <td>resized/n02113799_5009.jpg</td>\n",
              "    </tr>\n",
              "    <tr>\n",
              "      <th>2</th>\n",
              "      <td>generative-dog-images/resized/n02091032_6587.jpg</td>\n",
              "      <td>n02091032_6587</td>\n",
              "      <td>Italian_greyhound</td>\n",
              "      <td>/content/gdrive/My Drive/Colab Notebooks/deep_...</td>\n",
              "      <td>resized/n02091032_6587.jpg</td>\n",
              "    </tr>\n",
              "    <tr>\n",
              "      <th>3</th>\n",
              "      <td>generative-dog-images/resized/n02106166_1429.jpg</td>\n",
              "      <td>n02106166_1429</td>\n",
              "      <td>Border_collie</td>\n",
              "      <td>/content/gdrive/My Drive/Colab Notebooks/deep_...</td>\n",
              "      <td>resized/n02106166_1429.jpg</td>\n",
              "    </tr>\n",
              "    <tr>\n",
              "      <th>4</th>\n",
              "      <td>generative-dog-images/resized/n02093754_2276.jpg</td>\n",
              "      <td>n02093754_2276</td>\n",
              "      <td>Border_terrier</td>\n",
              "      <td>/content/gdrive/My Drive/Colab Notebooks/deep_...</td>\n",
              "      <td>resized/n02093754_2276.jpg</td>\n",
              "    </tr>\n",
              "  </tbody>\n",
              "</table>\n",
              "</div>"
            ],
            "text/plain": [
              "                                              f_name  ...                   colab_path\n",
              "0  generative-dog-images/resized/n02109961_16718.jpg  ...  resized/n02109961_16718.jpg\n",
              "1   generative-dog-images/resized/n02113799_5009.jpg  ...   resized/n02113799_5009.jpg\n",
              "2   generative-dog-images/resized/n02091032_6587.jpg  ...   resized/n02091032_6587.jpg\n",
              "3   generative-dog-images/resized/n02106166_1429.jpg  ...   resized/n02106166_1429.jpg\n",
              "4   generative-dog-images/resized/n02093754_2276.jpg  ...   resized/n02093754_2276.jpg\n",
              "\n",
              "[5 rows x 5 columns]"
            ]
          },
          "metadata": {
            "tags": []
          },
          "execution_count": 21
        }
      ]
    },
    {
      "cell_type": "code",
      "metadata": {
        "id": "T5hh2eNPAW95",
        "colab_type": "code",
        "colab": {}
      },
      "source": [
        "label2index = {val:i for i, val in enumerate(sorted(set(train_df['label'])))}"
      ],
      "execution_count": 22,
      "outputs": []
    },
    {
      "cell_type": "markdown",
      "metadata": {
        "id": "UhxCLGeyAAZY",
        "colab_type": "text"
      },
      "source": [
        "## Making Predictions with Resnet Model"
      ]
    },
    {
      "cell_type": "code",
      "metadata": {
        "id": "LDyMELWn_tDg",
        "colab_type": "code",
        "colab": {}
      },
      "source": [
        "def load_model(m, p): \n",
        "  m.load_state_dict(torch.load(p))"
      ],
      "execution_count": 23,
      "outputs": []
    },
    {
      "cell_type": "code",
      "metadata": {
        "id": "uDWQc03ZAEJN",
        "colab_type": "code",
        "colab": {}
      },
      "source": [
        "class DogClassifier(nn.Module):\n",
        "    def __init__(self, num_classes):\n",
        "        super(DogClassifier, self).__init__()\n",
        "        resnet = models.resnet34(pretrained=True)\n",
        "        layers = list(resnet.children())[:8]\n",
        "        self.features1 = nn.Sequential(*layers[:6])\n",
        "        self.features2 = nn.Sequential(*layers[6:])\n",
        "        self.classifier = nn.Sequential(nn.BatchNorm1d(512), nn.Linear(512, num_classes))\n",
        "    \n",
        "    def forward(self, x):\n",
        "        x = self.features1(x)\n",
        "        x = self.features2(x)\n",
        "        x = F.relu(x)\n",
        "        x = nn.AdaptiveAvgPool2d((1,1))(x)\n",
        "        x = x.view(x.shape[0], -1)\n",
        "        x = self.classifier(x)\n",
        "        return x"
      ],
      "execution_count": 24,
      "outputs": []
    },
    {
      "cell_type": "code",
      "metadata": {
        "id": "NJLgNnerAG19",
        "colab_type": "code",
        "colab": {}
      },
      "source": [
        "num_classes = len(label2index)\n",
        "model = DogClassifier(num_classes)"
      ],
      "execution_count": 25,
      "outputs": []
    },
    {
      "cell_type": "code",
      "metadata": {
        "id": "-9bq7JF3AbQs",
        "colab_type": "code",
        "colab": {
          "base_uri": "https://localhost:8080/",
          "height": 1000
        },
        "outputId": "3b4b6b80-c610-4edd-c249-f54034ffc674"
      },
      "source": [
        "# load_model(model, str(grootpath/\"ResnetClassifier\"))\n",
        "model = torch.load(grootpath/\"ResnetClassifier.pth\").cuda()\n",
        "model.eval()"
      ],
      "execution_count": 30,
      "outputs": [
        {
          "output_type": "execute_result",
          "data": {
            "text/plain": [
              "DogClassifier(\n",
              "  (features1): Sequential(\n",
              "    (0): Conv2d(3, 64, kernel_size=(7, 7), stride=(2, 2), padding=(3, 3), bias=False)\n",
              "    (1): BatchNorm2d(64, eps=1e-05, momentum=0.1, affine=True, track_running_stats=True)\n",
              "    (2): ReLU(inplace=True)\n",
              "    (3): MaxPool2d(kernel_size=3, stride=2, padding=1, dilation=1, ceil_mode=False)\n",
              "    (4): Sequential(\n",
              "      (0): BasicBlock(\n",
              "        (conv1): Conv2d(64, 64, kernel_size=(3, 3), stride=(1, 1), padding=(1, 1), bias=False)\n",
              "        (bn1): BatchNorm2d(64, eps=1e-05, momentum=0.1, affine=True, track_running_stats=True)\n",
              "        (relu): ReLU(inplace=True)\n",
              "        (conv2): Conv2d(64, 64, kernel_size=(3, 3), stride=(1, 1), padding=(1, 1), bias=False)\n",
              "        (bn2): BatchNorm2d(64, eps=1e-05, momentum=0.1, affine=True, track_running_stats=True)\n",
              "      )\n",
              "      (1): BasicBlock(\n",
              "        (conv1): Conv2d(64, 64, kernel_size=(3, 3), stride=(1, 1), padding=(1, 1), bias=False)\n",
              "        (bn1): BatchNorm2d(64, eps=1e-05, momentum=0.1, affine=True, track_running_stats=True)\n",
              "        (relu): ReLU(inplace=True)\n",
              "        (conv2): Conv2d(64, 64, kernel_size=(3, 3), stride=(1, 1), padding=(1, 1), bias=False)\n",
              "        (bn2): BatchNorm2d(64, eps=1e-05, momentum=0.1, affine=True, track_running_stats=True)\n",
              "      )\n",
              "      (2): BasicBlock(\n",
              "        (conv1): Conv2d(64, 64, kernel_size=(3, 3), stride=(1, 1), padding=(1, 1), bias=False)\n",
              "        (bn1): BatchNorm2d(64, eps=1e-05, momentum=0.1, affine=True, track_running_stats=True)\n",
              "        (relu): ReLU(inplace=True)\n",
              "        (conv2): Conv2d(64, 64, kernel_size=(3, 3), stride=(1, 1), padding=(1, 1), bias=False)\n",
              "        (bn2): BatchNorm2d(64, eps=1e-05, momentum=0.1, affine=True, track_running_stats=True)\n",
              "      )\n",
              "    )\n",
              "    (5): Sequential(\n",
              "      (0): BasicBlock(\n",
              "        (conv1): Conv2d(64, 128, kernel_size=(3, 3), stride=(2, 2), padding=(1, 1), bias=False)\n",
              "        (bn1): BatchNorm2d(128, eps=1e-05, momentum=0.1, affine=True, track_running_stats=True)\n",
              "        (relu): ReLU(inplace=True)\n",
              "        (conv2): Conv2d(128, 128, kernel_size=(3, 3), stride=(1, 1), padding=(1, 1), bias=False)\n",
              "        (bn2): BatchNorm2d(128, eps=1e-05, momentum=0.1, affine=True, track_running_stats=True)\n",
              "        (downsample): Sequential(\n",
              "          (0): Conv2d(64, 128, kernel_size=(1, 1), stride=(2, 2), bias=False)\n",
              "          (1): BatchNorm2d(128, eps=1e-05, momentum=0.1, affine=True, track_running_stats=True)\n",
              "        )\n",
              "      )\n",
              "      (1): BasicBlock(\n",
              "        (conv1): Conv2d(128, 128, kernel_size=(3, 3), stride=(1, 1), padding=(1, 1), bias=False)\n",
              "        (bn1): BatchNorm2d(128, eps=1e-05, momentum=0.1, affine=True, track_running_stats=True)\n",
              "        (relu): ReLU(inplace=True)\n",
              "        (conv2): Conv2d(128, 128, kernel_size=(3, 3), stride=(1, 1), padding=(1, 1), bias=False)\n",
              "        (bn2): BatchNorm2d(128, eps=1e-05, momentum=0.1, affine=True, track_running_stats=True)\n",
              "      )\n",
              "      (2): BasicBlock(\n",
              "        (conv1): Conv2d(128, 128, kernel_size=(3, 3), stride=(1, 1), padding=(1, 1), bias=False)\n",
              "        (bn1): BatchNorm2d(128, eps=1e-05, momentum=0.1, affine=True, track_running_stats=True)\n",
              "        (relu): ReLU(inplace=True)\n",
              "        (conv2): Conv2d(128, 128, kernel_size=(3, 3), stride=(1, 1), padding=(1, 1), bias=False)\n",
              "        (bn2): BatchNorm2d(128, eps=1e-05, momentum=0.1, affine=True, track_running_stats=True)\n",
              "      )\n",
              "      (3): BasicBlock(\n",
              "        (conv1): Conv2d(128, 128, kernel_size=(3, 3), stride=(1, 1), padding=(1, 1), bias=False)\n",
              "        (bn1): BatchNorm2d(128, eps=1e-05, momentum=0.1, affine=True, track_running_stats=True)\n",
              "        (relu): ReLU(inplace=True)\n",
              "        (conv2): Conv2d(128, 128, kernel_size=(3, 3), stride=(1, 1), padding=(1, 1), bias=False)\n",
              "        (bn2): BatchNorm2d(128, eps=1e-05, momentum=0.1, affine=True, track_running_stats=True)\n",
              "      )\n",
              "    )\n",
              "  )\n",
              "  (features2): Sequential(\n",
              "    (0): Sequential(\n",
              "      (0): BasicBlock(\n",
              "        (conv1): Conv2d(128, 256, kernel_size=(3, 3), stride=(2, 2), padding=(1, 1), bias=False)\n",
              "        (bn1): BatchNorm2d(256, eps=1e-05, momentum=0.1, affine=True, track_running_stats=True)\n",
              "        (relu): ReLU(inplace=True)\n",
              "        (conv2): Conv2d(256, 256, kernel_size=(3, 3), stride=(1, 1), padding=(1, 1), bias=False)\n",
              "        (bn2): BatchNorm2d(256, eps=1e-05, momentum=0.1, affine=True, track_running_stats=True)\n",
              "        (downsample): Sequential(\n",
              "          (0): Conv2d(128, 256, kernel_size=(1, 1), stride=(2, 2), bias=False)\n",
              "          (1): BatchNorm2d(256, eps=1e-05, momentum=0.1, affine=True, track_running_stats=True)\n",
              "        )\n",
              "      )\n",
              "      (1): BasicBlock(\n",
              "        (conv1): Conv2d(256, 256, kernel_size=(3, 3), stride=(1, 1), padding=(1, 1), bias=False)\n",
              "        (bn1): BatchNorm2d(256, eps=1e-05, momentum=0.1, affine=True, track_running_stats=True)\n",
              "        (relu): ReLU(inplace=True)\n",
              "        (conv2): Conv2d(256, 256, kernel_size=(3, 3), stride=(1, 1), padding=(1, 1), bias=False)\n",
              "        (bn2): BatchNorm2d(256, eps=1e-05, momentum=0.1, affine=True, track_running_stats=True)\n",
              "      )\n",
              "      (2): BasicBlock(\n",
              "        (conv1): Conv2d(256, 256, kernel_size=(3, 3), stride=(1, 1), padding=(1, 1), bias=False)\n",
              "        (bn1): BatchNorm2d(256, eps=1e-05, momentum=0.1, affine=True, track_running_stats=True)\n",
              "        (relu): ReLU(inplace=True)\n",
              "        (conv2): Conv2d(256, 256, kernel_size=(3, 3), stride=(1, 1), padding=(1, 1), bias=False)\n",
              "        (bn2): BatchNorm2d(256, eps=1e-05, momentum=0.1, affine=True, track_running_stats=True)\n",
              "      )\n",
              "      (3): BasicBlock(\n",
              "        (conv1): Conv2d(256, 256, kernel_size=(3, 3), stride=(1, 1), padding=(1, 1), bias=False)\n",
              "        (bn1): BatchNorm2d(256, eps=1e-05, momentum=0.1, affine=True, track_running_stats=True)\n",
              "        (relu): ReLU(inplace=True)\n",
              "        (conv2): Conv2d(256, 256, kernel_size=(3, 3), stride=(1, 1), padding=(1, 1), bias=False)\n",
              "        (bn2): BatchNorm2d(256, eps=1e-05, momentum=0.1, affine=True, track_running_stats=True)\n",
              "      )\n",
              "      (4): BasicBlock(\n",
              "        (conv1): Conv2d(256, 256, kernel_size=(3, 3), stride=(1, 1), padding=(1, 1), bias=False)\n",
              "        (bn1): BatchNorm2d(256, eps=1e-05, momentum=0.1, affine=True, track_running_stats=True)\n",
              "        (relu): ReLU(inplace=True)\n",
              "        (conv2): Conv2d(256, 256, kernel_size=(3, 3), stride=(1, 1), padding=(1, 1), bias=False)\n",
              "        (bn2): BatchNorm2d(256, eps=1e-05, momentum=0.1, affine=True, track_running_stats=True)\n",
              "      )\n",
              "      (5): BasicBlock(\n",
              "        (conv1): Conv2d(256, 256, kernel_size=(3, 3), stride=(1, 1), padding=(1, 1), bias=False)\n",
              "        (bn1): BatchNorm2d(256, eps=1e-05, momentum=0.1, affine=True, track_running_stats=True)\n",
              "        (relu): ReLU(inplace=True)\n",
              "        (conv2): Conv2d(256, 256, kernel_size=(3, 3), stride=(1, 1), padding=(1, 1), bias=False)\n",
              "        (bn2): BatchNorm2d(256, eps=1e-05, momentum=0.1, affine=True, track_running_stats=True)\n",
              "      )\n",
              "    )\n",
              "    (1): Sequential(\n",
              "      (0): BasicBlock(\n",
              "        (conv1): Conv2d(256, 512, kernel_size=(3, 3), stride=(2, 2), padding=(1, 1), bias=False)\n",
              "        (bn1): BatchNorm2d(512, eps=1e-05, momentum=0.1, affine=True, track_running_stats=True)\n",
              "        (relu): ReLU(inplace=True)\n",
              "        (conv2): Conv2d(512, 512, kernel_size=(3, 3), stride=(1, 1), padding=(1, 1), bias=False)\n",
              "        (bn2): BatchNorm2d(512, eps=1e-05, momentum=0.1, affine=True, track_running_stats=True)\n",
              "        (downsample): Sequential(\n",
              "          (0): Conv2d(256, 512, kernel_size=(1, 1), stride=(2, 2), bias=False)\n",
              "          (1): BatchNorm2d(512, eps=1e-05, momentum=0.1, affine=True, track_running_stats=True)\n",
              "        )\n",
              "      )\n",
              "      (1): BasicBlock(\n",
              "        (conv1): Conv2d(512, 512, kernel_size=(3, 3), stride=(1, 1), padding=(1, 1), bias=False)\n",
              "        (bn1): BatchNorm2d(512, eps=1e-05, momentum=0.1, affine=True, track_running_stats=True)\n",
              "        (relu): ReLU(inplace=True)\n",
              "        (conv2): Conv2d(512, 512, kernel_size=(3, 3), stride=(1, 1), padding=(1, 1), bias=False)\n",
              "        (bn2): BatchNorm2d(512, eps=1e-05, momentum=0.1, affine=True, track_running_stats=True)\n",
              "      )\n",
              "      (2): BasicBlock(\n",
              "        (conv1): Conv2d(512, 512, kernel_size=(3, 3), stride=(1, 1), padding=(1, 1), bias=False)\n",
              "        (bn1): BatchNorm2d(512, eps=1e-05, momentum=0.1, affine=True, track_running_stats=True)\n",
              "        (relu): ReLU(inplace=True)\n",
              "        (conv2): Conv2d(512, 512, kernel_size=(3, 3), stride=(1, 1), padding=(1, 1), bias=False)\n",
              "        (bn2): BatchNorm2d(512, eps=1e-05, momentum=0.1, affine=True, track_running_stats=True)\n",
              "      )\n",
              "    )\n",
              "  )\n",
              "  (classifier): Sequential(\n",
              "    (0): BatchNorm1d(512, eps=1e-05, momentum=0.1, affine=True, track_running_stats=True)\n",
              "    (1): Linear(in_features=512, out_features=120, bias=True)\n",
              "  )\n",
              ")"
            ]
          },
          "metadata": {
            "tags": []
          },
          "execution_count": 30
        }
      ]
    },
    {
      "cell_type": "markdown",
      "metadata": {
        "id": "ZbpixLXWtYcq",
        "colab_type": "text"
      },
      "source": [
        "## Testing Images"
      ]
    },
    {
      "cell_type": "code",
      "metadata": {
        "id": "M5ucMmOeuP71",
        "colab_type": "code",
        "colab": {}
      },
      "source": [
        "class DogsDataset(Dataset):\n",
        "    def __init__(self, df):\n",
        "        self.df = df\n",
        "        self.files = np.array(df['img_path'])\n",
        "\n",
        "    def __len__(self):\n",
        "        return self.df.shape[0]\n",
        "    \n",
        "    def __getitem__(self, idx):\n",
        "        path = str(self.files[idx])\n",
        "        x = cv2.imread(path).astype(np.float32)\n",
        "        x = cv2.cvtColor(x, cv2.COLOR_BGR2RGB)/255\n",
        "        return np.rollaxis(x, 2)"
      ],
      "execution_count": 31,
      "outputs": []
    },
    {
      "cell_type": "code",
      "metadata": {
        "id": "n1apPcDbBXOr",
        "colab_type": "code",
        "colab": {}
      },
      "source": [
        "testpath = Path(\"GanTest_Images\")\n",
        "test_df = pd.DataFrame({'img_path':[file for file in list(testpath.iterdir()) if str(file).endswith(\".jpg\")]})\n",
        "\n",
        "test_ds = DogsDataset(test_df)\n",
        "batch_size = test_df.shape[0]\n",
        "test_dl = DataLoader(test_ds, batch_size=batch_size)"
      ],
      "execution_count": 32,
      "outputs": []
    },
    {
      "cell_type": "code",
      "metadata": {
        "id": "eDw_VcsztgqU",
        "colab_type": "code",
        "colab": {}
      },
      "source": [
        "def make_preds(model, test_dl):\n",
        "    for x in test_dl:\n",
        "      x = x.float().cuda()\n",
        "      out = model(x)\n",
        "      pred = torch.max(out, 1)[1]\n",
        "    return pred"
      ],
      "execution_count": 35,
      "outputs": []
    },
    {
      "cell_type": "code",
      "metadata": {
        "id": "Ew8nFYrhwTMo",
        "colab_type": "code",
        "colab": {
          "base_uri": "https://localhost:8080/",
          "height": 359
        },
        "outputId": "7af3be00-827c-45e5-fa47-a1fb158ab1ff"
      },
      "source": [
        "preds = make_preds(model, test_dl)\n",
        "test_df['pred'] = preds.cpu().numpy()\n",
        "index2label = {val:key for key, val in label2index.items()}\n",
        "test_df['breed_pred'] = test_df['pred'].map(index2label)\n",
        "test_df"
      ],
      "execution_count": 53,
      "outputs": [
        {
          "output_type": "execute_result",
          "data": {
            "text/html": [
              "<div>\n",
              "<style scoped>\n",
              "    .dataframe tbody tr th:only-of-type {\n",
              "        vertical-align: middle;\n",
              "    }\n",
              "\n",
              "    .dataframe tbody tr th {\n",
              "        vertical-align: top;\n",
              "    }\n",
              "\n",
              "    .dataframe thead th {\n",
              "        text-align: right;\n",
              "    }\n",
              "</style>\n",
              "<table border=\"1\" class=\"dataframe\">\n",
              "  <thead>\n",
              "    <tr style=\"text-align: right;\">\n",
              "      <th></th>\n",
              "      <th>img_path</th>\n",
              "      <th>pred</th>\n",
              "      <th>breed_pred</th>\n",
              "    </tr>\n",
              "  </thead>\n",
              "  <tbody>\n",
              "    <tr>\n",
              "      <th>0</th>\n",
              "      <td>GanTest_Images/GAN1.jpg</td>\n",
              "      <td>53</td>\n",
              "      <td>Pomeranian</td>\n",
              "    </tr>\n",
              "    <tr>\n",
              "      <th>1</th>\n",
              "      <td>GanTest_Images/GAN4.jpg</td>\n",
              "      <td>44</td>\n",
              "      <td>Maltese_dog</td>\n",
              "    </tr>\n",
              "    <tr>\n",
              "      <th>2</th>\n",
              "      <td>GanTest_Images/GAN9.jpg</td>\n",
              "      <td>44</td>\n",
              "      <td>Maltese_dog</td>\n",
              "    </tr>\n",
              "    <tr>\n",
              "      <th>3</th>\n",
              "      <td>GanTest_Images/GAN3.jpg</td>\n",
              "      <td>30</td>\n",
              "      <td>Great_Pyrenees</td>\n",
              "    </tr>\n",
              "    <tr>\n",
              "      <th>4</th>\n",
              "      <td>GanTest_Images/GAN2.jpg</td>\n",
              "      <td>44</td>\n",
              "      <td>Maltese_dog</td>\n",
              "    </tr>\n",
              "    <tr>\n",
              "      <th>5</th>\n",
              "      <td>GanTest_Images/GAN7.jpg</td>\n",
              "      <td>30</td>\n",
              "      <td>Great_Pyrenees</td>\n",
              "    </tr>\n",
              "    <tr>\n",
              "      <th>6</th>\n",
              "      <td>GanTest_Images/GAN10.jpg</td>\n",
              "      <td>44</td>\n",
              "      <td>Maltese_dog</td>\n",
              "    </tr>\n",
              "    <tr>\n",
              "      <th>7</th>\n",
              "      <td>GanTest_Images/GAN6.jpg</td>\n",
              "      <td>30</td>\n",
              "      <td>Great_Pyrenees</td>\n",
              "    </tr>\n",
              "    <tr>\n",
              "      <th>8</th>\n",
              "      <td>GanTest_Images/GAN5.jpg</td>\n",
              "      <td>58</td>\n",
              "      <td>Samoyed</td>\n",
              "    </tr>\n",
              "    <tr>\n",
              "      <th>9</th>\n",
              "      <td>GanTest_Images/GAN8.jpg</td>\n",
              "      <td>30</td>\n",
              "      <td>Great_Pyrenees</td>\n",
              "    </tr>\n",
              "  </tbody>\n",
              "</table>\n",
              "</div>"
            ],
            "text/plain": [
              "                   img_path  pred      breed_pred\n",
              "0   GanTest_Images/GAN1.jpg    53      Pomeranian\n",
              "1   GanTest_Images/GAN4.jpg    44     Maltese_dog\n",
              "2   GanTest_Images/GAN9.jpg    44     Maltese_dog\n",
              "3   GanTest_Images/GAN3.jpg    30  Great_Pyrenees\n",
              "4   GanTest_Images/GAN2.jpg    44     Maltese_dog\n",
              "5   GanTest_Images/GAN7.jpg    30  Great_Pyrenees\n",
              "6  GanTest_Images/GAN10.jpg    44     Maltese_dog\n",
              "7   GanTest_Images/GAN6.jpg    30  Great_Pyrenees\n",
              "8   GanTest_Images/GAN5.jpg    58         Samoyed\n",
              "9   GanTest_Images/GAN8.jpg    30  Great_Pyrenees"
            ]
          },
          "metadata": {
            "tags": []
          },
          "execution_count": 53
        }
      ]
    },
    {
      "cell_type": "code",
      "metadata": {
        "id": "427JTPwlxTPh",
        "colab_type": "code",
        "colab": {}
      },
      "source": [
        "# test_df.to_csv(grootpath/'GAN_preds.csv')"
      ],
      "execution_count": 56,
      "outputs": []
    }
  ]
}