{
  "nbformat": 4,
  "nbformat_minor": 0,
  "metadata": {
    "colab": {
      "name": "ResnetPuppyClassifier",
      "provenance": [],
      "collapsed_sections": [],
      "toc_visible": true
    },
    "kernelspec": {
      "name": "python3",
      "display_name": "Python 3"
    },
    "accelerator": "GPU",
    "widgets": {
      "application/vnd.jupyter.widget-state+json": {
        "bf2de20968554202abb76679072db0bb": {
          "model_module": "@jupyter-widgets/controls",
          "model_name": "HBoxModel",
          "state": {
            "_view_name": "HBoxView",
            "_dom_classes": [],
            "_model_name": "HBoxModel",
            "_view_module": "@jupyter-widgets/controls",
            "_model_module_version": "1.5.0",
            "_view_count": null,
            "_view_module_version": "1.5.0",
            "box_style": "",
            "layout": "IPY_MODEL_7c4e0e1474db432690426b1f134fee39",
            "_model_module": "@jupyter-widgets/controls",
            "children": [
              "IPY_MODEL_505462dddb944b3ca030ada2ab7f80d8",
              "IPY_MODEL_a6fb0b5faaef4baeb21d3adfbe8f184c"
            ]
          }
        },
        "7c4e0e1474db432690426b1f134fee39": {
          "model_module": "@jupyter-widgets/base",
          "model_name": "LayoutModel",
          "state": {
            "_view_name": "LayoutView",
            "grid_template_rows": null,
            "right": null,
            "justify_content": null,
            "_view_module": "@jupyter-widgets/base",
            "overflow": null,
            "_model_module_version": "1.2.0",
            "_view_count": null,
            "flex_flow": null,
            "width": null,
            "min_width": null,
            "border": null,
            "align_items": null,
            "bottom": null,
            "_model_module": "@jupyter-widgets/base",
            "top": null,
            "grid_column": null,
            "overflow_y": null,
            "overflow_x": null,
            "grid_auto_flow": null,
            "grid_area": null,
            "grid_template_columns": null,
            "flex": null,
            "_model_name": "LayoutModel",
            "justify_items": null,
            "grid_row": null,
            "max_height": null,
            "align_content": null,
            "visibility": null,
            "align_self": null,
            "height": null,
            "min_height": null,
            "padding": null,
            "grid_auto_rows": null,
            "grid_gap": null,
            "max_width": null,
            "order": null,
            "_view_module_version": "1.2.0",
            "grid_template_areas": null,
            "object_position": null,
            "object_fit": null,
            "grid_auto_columns": null,
            "margin": null,
            "display": null,
            "left": null
          }
        },
        "505462dddb944b3ca030ada2ab7f80d8": {
          "model_module": "@jupyter-widgets/controls",
          "model_name": "FloatProgressModel",
          "state": {
            "_view_name": "ProgressView",
            "style": "IPY_MODEL_5e49b392479e46628645848f0fbf604d",
            "_dom_classes": [],
            "description": "100%",
            "_model_name": "FloatProgressModel",
            "bar_style": "success",
            "max": 87306240,
            "_view_module": "@jupyter-widgets/controls",
            "_model_module_version": "1.5.0",
            "value": 87306240,
            "_view_count": null,
            "_view_module_version": "1.5.0",
            "orientation": "horizontal",
            "min": 0,
            "description_tooltip": null,
            "_model_module": "@jupyter-widgets/controls",
            "layout": "IPY_MODEL_4f8a5d76b11d4ed8bdff8bd4ceaf2eb5"
          }
        },
        "a6fb0b5faaef4baeb21d3adfbe8f184c": {
          "model_module": "@jupyter-widgets/controls",
          "model_name": "HTMLModel",
          "state": {
            "_view_name": "HTMLView",
            "style": "IPY_MODEL_2d9d0ce0be6c428097959792a5d3ac77",
            "_dom_classes": [],
            "description": "",
            "_model_name": "HTMLModel",
            "placeholder": "​",
            "_view_module": "@jupyter-widgets/controls",
            "_model_module_version": "1.5.0",
            "value": " 83.3M/83.3M [00:00&lt;00:00, 240MB/s]",
            "_view_count": null,
            "_view_module_version": "1.5.0",
            "description_tooltip": null,
            "_model_module": "@jupyter-widgets/controls",
            "layout": "IPY_MODEL_50587f6892154988b9c6d16f45c461c4"
          }
        },
        "5e49b392479e46628645848f0fbf604d": {
          "model_module": "@jupyter-widgets/controls",
          "model_name": "ProgressStyleModel",
          "state": {
            "_view_name": "StyleView",
            "_model_name": "ProgressStyleModel",
            "description_width": "initial",
            "_view_module": "@jupyter-widgets/base",
            "_model_module_version": "1.5.0",
            "_view_count": null,
            "_view_module_version": "1.2.0",
            "bar_color": null,
            "_model_module": "@jupyter-widgets/controls"
          }
        },
        "4f8a5d76b11d4ed8bdff8bd4ceaf2eb5": {
          "model_module": "@jupyter-widgets/base",
          "model_name": "LayoutModel",
          "state": {
            "_view_name": "LayoutView",
            "grid_template_rows": null,
            "right": null,
            "justify_content": null,
            "_view_module": "@jupyter-widgets/base",
            "overflow": null,
            "_model_module_version": "1.2.0",
            "_view_count": null,
            "flex_flow": null,
            "width": null,
            "min_width": null,
            "border": null,
            "align_items": null,
            "bottom": null,
            "_model_module": "@jupyter-widgets/base",
            "top": null,
            "grid_column": null,
            "overflow_y": null,
            "overflow_x": null,
            "grid_auto_flow": null,
            "grid_area": null,
            "grid_template_columns": null,
            "flex": null,
            "_model_name": "LayoutModel",
            "justify_items": null,
            "grid_row": null,
            "max_height": null,
            "align_content": null,
            "visibility": null,
            "align_self": null,
            "height": null,
            "min_height": null,
            "padding": null,
            "grid_auto_rows": null,
            "grid_gap": null,
            "max_width": null,
            "order": null,
            "_view_module_version": "1.2.0",
            "grid_template_areas": null,
            "object_position": null,
            "object_fit": null,
            "grid_auto_columns": null,
            "margin": null,
            "display": null,
            "left": null
          }
        },
        "2d9d0ce0be6c428097959792a5d3ac77": {
          "model_module": "@jupyter-widgets/controls",
          "model_name": "DescriptionStyleModel",
          "state": {
            "_view_name": "StyleView",
            "_model_name": "DescriptionStyleModel",
            "description_width": "",
            "_view_module": "@jupyter-widgets/base",
            "_model_module_version": "1.5.0",
            "_view_count": null,
            "_view_module_version": "1.2.0",
            "_model_module": "@jupyter-widgets/controls"
          }
        },
        "50587f6892154988b9c6d16f45c461c4": {
          "model_module": "@jupyter-widgets/base",
          "model_name": "LayoutModel",
          "state": {
            "_view_name": "LayoutView",
            "grid_template_rows": null,
            "right": null,
            "justify_content": null,
            "_view_module": "@jupyter-widgets/base",
            "overflow": null,
            "_model_module_version": "1.2.0",
            "_view_count": null,
            "flex_flow": null,
            "width": null,
            "min_width": null,
            "border": null,
            "align_items": null,
            "bottom": null,
            "_model_module": "@jupyter-widgets/base",
            "top": null,
            "grid_column": null,
            "overflow_y": null,
            "overflow_x": null,
            "grid_auto_flow": null,
            "grid_area": null,
            "grid_template_columns": null,
            "flex": null,
            "_model_name": "LayoutModel",
            "justify_items": null,
            "grid_row": null,
            "max_height": null,
            "align_content": null,
            "visibility": null,
            "align_self": null,
            "height": null,
            "min_height": null,
            "padding": null,
            "grid_auto_rows": null,
            "grid_gap": null,
            "max_width": null,
            "order": null,
            "_view_module_version": "1.2.0",
            "grid_template_areas": null,
            "object_position": null,
            "object_fit": null,
            "grid_auto_columns": null,
            "margin": null,
            "display": null,
            "left": null
          }
        },
        "5fbfa7c2eb204532a2a74806707801ec": {
          "model_module": "@jupyter-widgets/controls",
          "model_name": "HBoxModel",
          "state": {
            "_view_name": "HBoxView",
            "_dom_classes": [],
            "_model_name": "HBoxModel",
            "_view_module": "@jupyter-widgets/controls",
            "_model_module_version": "1.5.0",
            "_view_count": null,
            "_view_module_version": "1.5.0",
            "box_style": "",
            "layout": "IPY_MODEL_61337ef121e34dfe8f9ce1616bcce155",
            "_model_module": "@jupyter-widgets/controls",
            "children": [
              "IPY_MODEL_4dda1adfbc8c44cda1ed57283a084f06",
              "IPY_MODEL_75e30cad534341eab289cf92a892e060"
            ]
          }
        },
        "61337ef121e34dfe8f9ce1616bcce155": {
          "model_module": "@jupyter-widgets/base",
          "model_name": "LayoutModel",
          "state": {
            "_view_name": "LayoutView",
            "grid_template_rows": null,
            "right": null,
            "justify_content": null,
            "_view_module": "@jupyter-widgets/base",
            "overflow": null,
            "_model_module_version": "1.2.0",
            "_view_count": null,
            "flex_flow": null,
            "width": null,
            "min_width": null,
            "border": null,
            "align_items": null,
            "bottom": null,
            "_model_module": "@jupyter-widgets/base",
            "top": null,
            "grid_column": null,
            "overflow_y": null,
            "overflow_x": null,
            "grid_auto_flow": null,
            "grid_area": null,
            "grid_template_columns": null,
            "flex": null,
            "_model_name": "LayoutModel",
            "justify_items": null,
            "grid_row": null,
            "max_height": null,
            "align_content": null,
            "visibility": null,
            "align_self": null,
            "height": null,
            "min_height": null,
            "padding": null,
            "grid_auto_rows": null,
            "grid_gap": null,
            "max_width": null,
            "order": null,
            "_view_module_version": "1.2.0",
            "grid_template_areas": null,
            "object_position": null,
            "object_fit": null,
            "grid_auto_columns": null,
            "margin": null,
            "display": null,
            "left": null
          }
        },
        "4dda1adfbc8c44cda1ed57283a084f06": {
          "model_module": "@jupyter-widgets/controls",
          "model_name": "FloatProgressModel",
          "state": {
            "_view_name": "ProgressView",
            "style": "IPY_MODEL_13a4bbb47536415fb9f3177fb491f6f4",
            "_dom_classes": [],
            "description": "100%",
            "_model_name": "FloatProgressModel",
            "bar_style": "",
            "max": 25750,
            "_view_module": "@jupyter-widgets/controls",
            "_model_module_version": "1.5.0",
            "value": 25750,
            "_view_count": null,
            "_view_module_version": "1.5.0",
            "orientation": "horizontal",
            "min": 0,
            "description_tooltip": null,
            "_model_module": "@jupyter-widgets/controls",
            "layout": "IPY_MODEL_c724fcd84aae455882c98eb6c2ce7418"
          }
        },
        "75e30cad534341eab289cf92a892e060": {
          "model_module": "@jupyter-widgets/controls",
          "model_name": "HTMLModel",
          "state": {
            "_view_name": "HTMLView",
            "style": "IPY_MODEL_877ac66c645b428cab3dee611c366d77",
            "_dom_classes": [],
            "description": "",
            "_model_name": "HTMLModel",
            "placeholder": "​",
            "_view_module": "@jupyter-widgets/controls",
            "_model_module_version": "1.5.0",
            "value": " 25750/25750 [2:04:04&lt;00:00,  4.46it/s]",
            "_view_count": null,
            "_view_module_version": "1.5.0",
            "description_tooltip": null,
            "_model_module": "@jupyter-widgets/controls",
            "layout": "IPY_MODEL_9222502561194780abd49e330c471c02"
          }
        },
        "13a4bbb47536415fb9f3177fb491f6f4": {
          "model_module": "@jupyter-widgets/controls",
          "model_name": "ProgressStyleModel",
          "state": {
            "_view_name": "StyleView",
            "_model_name": "ProgressStyleModel",
            "description_width": "initial",
            "_view_module": "@jupyter-widgets/base",
            "_model_module_version": "1.5.0",
            "_view_count": null,
            "_view_module_version": "1.2.0",
            "bar_color": null,
            "_model_module": "@jupyter-widgets/controls"
          }
        },
        "c724fcd84aae455882c98eb6c2ce7418": {
          "model_module": "@jupyter-widgets/base",
          "model_name": "LayoutModel",
          "state": {
            "_view_name": "LayoutView",
            "grid_template_rows": null,
            "right": null,
            "justify_content": null,
            "_view_module": "@jupyter-widgets/base",
            "overflow": null,
            "_model_module_version": "1.2.0",
            "_view_count": null,
            "flex_flow": null,
            "width": null,
            "min_width": null,
            "border": null,
            "align_items": null,
            "bottom": null,
            "_model_module": "@jupyter-widgets/base",
            "top": null,
            "grid_column": null,
            "overflow_y": null,
            "overflow_x": null,
            "grid_auto_flow": null,
            "grid_area": null,
            "grid_template_columns": null,
            "flex": null,
            "_model_name": "LayoutModel",
            "justify_items": null,
            "grid_row": null,
            "max_height": null,
            "align_content": null,
            "visibility": null,
            "align_self": null,
            "height": null,
            "min_height": null,
            "padding": null,
            "grid_auto_rows": null,
            "grid_gap": null,
            "max_width": null,
            "order": null,
            "_view_module_version": "1.2.0",
            "grid_template_areas": null,
            "object_position": null,
            "object_fit": null,
            "grid_auto_columns": null,
            "margin": null,
            "display": null,
            "left": null
          }
        },
        "877ac66c645b428cab3dee611c366d77": {
          "model_module": "@jupyter-widgets/controls",
          "model_name": "DescriptionStyleModel",
          "state": {
            "_view_name": "StyleView",
            "_model_name": "DescriptionStyleModel",
            "description_width": "",
            "_view_module": "@jupyter-widgets/base",
            "_model_module_version": "1.5.0",
            "_view_count": null,
            "_view_module_version": "1.2.0",
            "_model_module": "@jupyter-widgets/controls"
          }
        },
        "9222502561194780abd49e330c471c02": {
          "model_module": "@jupyter-widgets/base",
          "model_name": "LayoutModel",
          "state": {
            "_view_name": "LayoutView",
            "grid_template_rows": null,
            "right": null,
            "justify_content": null,
            "_view_module": "@jupyter-widgets/base",
            "overflow": null,
            "_model_module_version": "1.2.0",
            "_view_count": null,
            "flex_flow": null,
            "width": null,
            "min_width": null,
            "border": null,
            "align_items": null,
            "bottom": null,
            "_model_module": "@jupyter-widgets/base",
            "top": null,
            "grid_column": null,
            "overflow_y": null,
            "overflow_x": null,
            "grid_auto_flow": null,
            "grid_area": null,
            "grid_template_columns": null,
            "flex": null,
            "_model_name": "LayoutModel",
            "justify_items": null,
            "grid_row": null,
            "max_height": null,
            "align_content": null,
            "visibility": null,
            "align_self": null,
            "height": null,
            "min_height": null,
            "padding": null,
            "grid_auto_rows": null,
            "grid_gap": null,
            "max_width": null,
            "order": null,
            "_view_module_version": "1.2.0",
            "grid_template_areas": null,
            "object_position": null,
            "object_fit": null,
            "grid_auto_columns": null,
            "margin": null,
            "display": null,
            "left": null
          }
        }
      }
    }
  },
  "cells": [
    {
      "cell_type": "code",
      "metadata": {
        "id": "6hR4J8byjaTn",
        "colab_type": "code",
        "colab": {}
      },
      "source": [
        "import os \n",
        "from pydrive.auth import GoogleAuth \n",
        "from pydrive.drive import GoogleDrive \n",
        "from google.colab import auth \n",
        "from oauth2client.client import GoogleCredentials"
      ],
      "execution_count": 1,
      "outputs": []
    },
    {
      "cell_type": "code",
      "metadata": {
        "id": "P6DR47yTn9ck",
        "colab_type": "code",
        "colab": {
          "base_uri": "https://localhost:8080/",
          "height": 173
        },
        "outputId": "62d6006f-923c-4574-e43f-58c66dde9985"
      },
      "source": [
        "! pip install gdown"
      ],
      "execution_count": 5,
      "outputs": [
        {
          "output_type": "stream",
          "text": [
            "Requirement already satisfied: gdown in /usr/local/lib/python3.6/dist-packages (3.6.4)\n",
            "Requirement already satisfied: requests in /usr/local/lib/python3.6/dist-packages (from gdown) (2.23.0)\n",
            "Requirement already satisfied: six in /usr/local/lib/python3.6/dist-packages (from gdown) (1.12.0)\n",
            "Requirement already satisfied: tqdm in /usr/local/lib/python3.6/dist-packages (from gdown) (4.41.1)\n",
            "Requirement already satisfied: chardet<4,>=3.0.2 in /usr/local/lib/python3.6/dist-packages (from requests->gdown) (3.0.4)\n",
            "Requirement already satisfied: urllib3!=1.25.0,!=1.25.1,<1.26,>=1.21.1 in /usr/local/lib/python3.6/dist-packages (from requests->gdown) (1.24.3)\n",
            "Requirement already satisfied: certifi>=2017.4.17 in /usr/local/lib/python3.6/dist-packages (from requests->gdown) (2020.4.5.2)\n",
            "Requirement already satisfied: idna<3,>=2.5 in /usr/local/lib/python3.6/dist-packages (from requests->gdown) (2.9)\n"
          ],
          "name": "stdout"
        }
      ]
    },
    {
      "cell_type": "code",
      "metadata": {
        "id": "qLmIO6CkouIf",
        "colab_type": "code",
        "colab": {
          "base_uri": "https://localhost:8080/",
          "height": 85
        },
        "outputId": "d2f2c14a-00ec-433e-ddef-d02193e9d1c6"
      },
      "source": [
        "! gdown https://drive.google.com/uc?id=1lN8swb1sdt3rcqAltRH5lCLqUzUGrU47"
      ],
      "execution_count": 6,
      "outputs": [
        {
          "output_type": "stream",
          "text": [
            "Downloading...\n",
            "From: https://drive.google.com/uc?id=1lN8swb1sdt3rcqAltRH5lCLqUzUGrU47\n",
            "To: /content/resized.zip\n",
            "648MB [00:03, 164MB/s]\n"
          ],
          "name": "stdout"
        }
      ]
    },
    {
      "cell_type": "code",
      "metadata": {
        "id": "ZVrYtQ_DObhO",
        "colab_type": "code",
        "colab": {}
      },
      "source": [
        "# https://drive.google.com/file/d/1lN8swb1sdt3rcqAltRH5lCLqUzUGrU47/view?usp=sharing"
      ],
      "execution_count": 7,
      "outputs": []
    },
    {
      "cell_type": "code",
      "metadata": {
        "id": "k9AphLh3r3Qr",
        "colab_type": "code",
        "colab": {}
      },
      "source": [
        "! unzip resized.zip > /dev/null"
      ],
      "execution_count": 8,
      "outputs": []
    },
    {
      "cell_type": "code",
      "metadata": {
        "id": "bJy4NXFYqbJP",
        "colab_type": "code",
        "colab": {}
      },
      "source": [
        "%reload_ext autoreload\n",
        "%autoreload 2\n",
        "%matplotlib inline\n",
        "\n",
        "import pandas as pd\n",
        "import numpy as np\n",
        "import lxml.etree as ET\n",
        "from bs4 import BeautifulSoup\n",
        "import os\n",
        "import spacy\n",
        "import string\n",
        "import re\n",
        "from tqdm.notebook import tqdm\n",
        "import math\n",
        "import numpy as np\n",
        "from spacy.symbols import ORTH\n",
        "from pathlib import Path\n",
        "from collections import Counter\n",
        "from collections import defaultdict\n",
        "from sklearn.model_selection import train_test_split\n",
        "\n",
        "import torch\n",
        "import torch.nn as nn\n",
        "import torch.optim as optim\n",
        "import torch.nn.functional as F\n",
        "from torch.utils.data import Dataset, DataLoader\n",
        "from torchvision import models\n",
        "from torch.nn.utils.rnn import pack_padded_sequence, pad_packed_sequence\n",
        "\n",
        "import cv2\n",
        "import matplotlib.pyplot as plt"
      ],
      "execution_count": 9,
      "outputs": []
    },
    {
      "cell_type": "code",
      "metadata": {
        "id": "RmYh47zFsTCf",
        "colab_type": "code",
        "colab": {
          "base_uri": "https://localhost:8080/",
          "height": 122
        },
        "outputId": "c43e5d8f-39c5-4493-8d7b-058cc089672b"
      },
      "source": [
        "from google.colab import drive\n",
        "drive.mount('/content/gdrive')"
      ],
      "execution_count": 10,
      "outputs": [
        {
          "output_type": "stream",
          "text": [
            "Go to this URL in a browser: https://accounts.google.com/o/oauth2/auth?client_id=947318989803-6bn6qk8qdgf4n4g3pfee6491hc0brc4i.apps.googleusercontent.com&redirect_uri=urn%3aietf%3awg%3aoauth%3a2.0%3aoob&response_type=code&scope=email%20https%3a%2f%2fwww.googleapis.com%2fauth%2fdocs.test%20https%3a%2f%2fwww.googleapis.com%2fauth%2fdrive%20https%3a%2f%2fwww.googleapis.com%2fauth%2fdrive.photos.readonly%20https%3a%2f%2fwww.googleapis.com%2fauth%2fpeopleapi.readonly\n",
            "\n",
            "Enter your authorization code:\n",
            "··········\n",
            "Mounted at /content/gdrive\n"
          ],
          "name": "stdout"
        }
      ]
    },
    {
      "cell_type": "markdown",
      "metadata": {
        "id": "5Lo8aooosWc4",
        "colab_type": "text"
      },
      "source": [
        "### GDrive Path"
      ]
    },
    {
      "cell_type": "code",
      "metadata": {
        "id": "dAKaGxsZscM8",
        "colab_type": "code",
        "colab": {}
      },
      "source": [
        "grootpath = Path('/content/gdrive/My Drive/Colab Notebooks/deep_learning/DoggyGANs')"
      ],
      "execution_count": 11,
      "outputs": []
    },
    {
      "cell_type": "code",
      "metadata": {
        "id": "WyfRxikesdak",
        "colab_type": "code",
        "colab": {}
      },
      "source": [
        "def read_image(path):\n",
        "    im = cv2.imread(str(path))\n",
        "    return cv2.cvtColor(im, cv2.COLOR_BGR2RGB)"
      ],
      "execution_count": 12,
      "outputs": []
    },
    {
      "cell_type": "code",
      "metadata": {
        "id": "7C5Xxt4LsedX",
        "colab_type": "code",
        "colab": {}
      },
      "source": [
        "def crop(im, r, c, target_r, target_c): \n",
        "    return im[r:r+target_r, c:c+target_c]\n",
        "\n",
        "def center_crop_square(im):\n",
        "    \"\"\" Returns a center crop of an image\"\"\"\n",
        "    r,c,*_ = im.shape\n",
        "    min_sz = min(r,c)\n",
        "    start_r = math.ceil((r-min_sz)/2)\n",
        "    start_c = math.ceil((c-min_sz)/2)\n",
        "    return crop(im, start_r, start_c, min_sz, min_sz)\n",
        "\n",
        "def get_a_crop(path, sz=250):\n",
        "    im = cv2.imread(str(path))\n",
        "    return cv2.resize(center_crop_square(im), (sz, sz))\n",
        "\n",
        "def random_crop(x, r_pix=8):\n",
        "    \"\"\" Returns a random crop\"\"\"\n",
        "    r, c,*_ = x.shape\n",
        "    r, c,*_ = x.shape\n",
        "    c_pix = round(r_pix*c/r)\n",
        "    rand_r = np.random.uniform(0, 1)\n",
        "    rand_c = np.random.uniform(0, 1)\n",
        "    start_r = np.floor(2*rand_r*r_pix).astype(int)\n",
        "    start_c = np.floor(2*rand_c*c_pix).astype(int)\n",
        "    return crop(x, start_r, start_c, r-2*r_pix, c-2*c_pix)\n",
        "\n",
        "def center_crop(x, r_pix=8):\n",
        "    r, c,*_ = x.shape\n",
        "    c_pix = round(r_pix*c/r)\n",
        "    return crop(x, r_pix, c_pix, r-2*r_pix, c-2*c_pix)\n",
        "\n",
        "\n",
        "def rotate_cv(im, deg, mode=cv2.BORDER_REFLECT, interpolation=cv2.INTER_AREA):\n",
        "    \"\"\" Rotates an image by deg degrees\"\"\"\n",
        "    r,c,*_ = im.shape\n",
        "    M = cv2.getRotationMatrix2D((c/2,r/2),deg,1)\n",
        "    return cv2.warpAffine(im,M,(c,r), borderMode=mode, \n",
        "                          flags=cv2.WARP_FILL_OUTLIERS+interpolation)"
      ],
      "execution_count": 13,
      "outputs": []
    },
    {
      "cell_type": "code",
      "metadata": {
        "id": "A8281rjCshTv",
        "colab_type": "code",
        "colab": {
          "base_uri": "https://localhost:8080/",
          "height": 204
        },
        "outputId": "00d6d5e5-d2a0-4aae-c783-b4a98a4e333f"
      },
      "source": [
        "train_df = pd.read_csv(grootpath/'generative-dog-images/files.csv')\n",
        "train_df.head()"
      ],
      "execution_count": 14,
      "outputs": [
        {
          "output_type": "execute_result",
          "data": {
            "text/html": [
              "<div>\n",
              "<style scoped>\n",
              "    .dataframe tbody tr th:only-of-type {\n",
              "        vertical-align: middle;\n",
              "    }\n",
              "\n",
              "    .dataframe tbody tr th {\n",
              "        vertical-align: top;\n",
              "    }\n",
              "\n",
              "    .dataframe thead th {\n",
              "        text-align: right;\n",
              "    }\n",
              "</style>\n",
              "<table border=\"1\" class=\"dataframe\">\n",
              "  <thead>\n",
              "    <tr style=\"text-align: right;\">\n",
              "      <th></th>\n",
              "      <th>f_name</th>\n",
              "      <th>f_subname</th>\n",
              "      <th>label</th>\n",
              "    </tr>\n",
              "  </thead>\n",
              "  <tbody>\n",
              "    <tr>\n",
              "      <th>0</th>\n",
              "      <td>generative-dog-images/resized/n02109961_16718.jpg</td>\n",
              "      <td>n02109961_16718</td>\n",
              "      <td>Eskimo_dog</td>\n",
              "    </tr>\n",
              "    <tr>\n",
              "      <th>1</th>\n",
              "      <td>generative-dog-images/resized/n02113799_5009.jpg</td>\n",
              "      <td>n02113799_5009</td>\n",
              "      <td>standard_poodle</td>\n",
              "    </tr>\n",
              "    <tr>\n",
              "      <th>2</th>\n",
              "      <td>generative-dog-images/resized/n02091032_6587.jpg</td>\n",
              "      <td>n02091032_6587</td>\n",
              "      <td>Italian_greyhound</td>\n",
              "    </tr>\n",
              "    <tr>\n",
              "      <th>3</th>\n",
              "      <td>generative-dog-images/resized/n02106166_1429.jpg</td>\n",
              "      <td>n02106166_1429</td>\n",
              "      <td>Border_collie</td>\n",
              "    </tr>\n",
              "    <tr>\n",
              "      <th>4</th>\n",
              "      <td>generative-dog-images/resized/n02093754_2276.jpg</td>\n",
              "      <td>n02093754_2276</td>\n",
              "      <td>Border_terrier</td>\n",
              "    </tr>\n",
              "  </tbody>\n",
              "</table>\n",
              "</div>"
            ],
            "text/plain": [
              "                                              f_name  ...              label\n",
              "0  generative-dog-images/resized/n02109961_16718.jpg  ...         Eskimo_dog\n",
              "1   generative-dog-images/resized/n02113799_5009.jpg  ...    standard_poodle\n",
              "2   generative-dog-images/resized/n02091032_6587.jpg  ...  Italian_greyhound\n",
              "3   generative-dog-images/resized/n02106166_1429.jpg  ...      Border_collie\n",
              "4   generative-dog-images/resized/n02093754_2276.jpg  ...     Border_terrier\n",
              "\n",
              "[5 rows x 3 columns]"
            ]
          },
          "metadata": {
            "tags": []
          },
          "execution_count": 14
        }
      ]
    },
    {
      "cell_type": "code",
      "metadata": {
        "id": "HZgWqTiCsmxh",
        "colab_type": "code",
        "colab": {
          "base_uri": "https://localhost:8080/",
          "height": 204
        },
        "outputId": "b61b60dd-0d4c-4f9c-b42e-bbc5ce267dff"
      },
      "source": [
        "gimage_path = Path(grootpath/'generative-dog-images/resized/')\n",
        "train_df['g_name'] = train_df['f_name'].apply(lambda x: str(gimage_path) + '/' + x.split('/')[-1])\n",
        "train_df.head()"
      ],
      "execution_count": 15,
      "outputs": [
        {
          "output_type": "execute_result",
          "data": {
            "text/html": [
              "<div>\n",
              "<style scoped>\n",
              "    .dataframe tbody tr th:only-of-type {\n",
              "        vertical-align: middle;\n",
              "    }\n",
              "\n",
              "    .dataframe tbody tr th {\n",
              "        vertical-align: top;\n",
              "    }\n",
              "\n",
              "    .dataframe thead th {\n",
              "        text-align: right;\n",
              "    }\n",
              "</style>\n",
              "<table border=\"1\" class=\"dataframe\">\n",
              "  <thead>\n",
              "    <tr style=\"text-align: right;\">\n",
              "      <th></th>\n",
              "      <th>f_name</th>\n",
              "      <th>f_subname</th>\n",
              "      <th>label</th>\n",
              "      <th>g_name</th>\n",
              "    </tr>\n",
              "  </thead>\n",
              "  <tbody>\n",
              "    <tr>\n",
              "      <th>0</th>\n",
              "      <td>generative-dog-images/resized/n02109961_16718.jpg</td>\n",
              "      <td>n02109961_16718</td>\n",
              "      <td>Eskimo_dog</td>\n",
              "      <td>/content/gdrive/My Drive/Colab Notebooks/deep_...</td>\n",
              "    </tr>\n",
              "    <tr>\n",
              "      <th>1</th>\n",
              "      <td>generative-dog-images/resized/n02113799_5009.jpg</td>\n",
              "      <td>n02113799_5009</td>\n",
              "      <td>standard_poodle</td>\n",
              "      <td>/content/gdrive/My Drive/Colab Notebooks/deep_...</td>\n",
              "    </tr>\n",
              "    <tr>\n",
              "      <th>2</th>\n",
              "      <td>generative-dog-images/resized/n02091032_6587.jpg</td>\n",
              "      <td>n02091032_6587</td>\n",
              "      <td>Italian_greyhound</td>\n",
              "      <td>/content/gdrive/My Drive/Colab Notebooks/deep_...</td>\n",
              "    </tr>\n",
              "    <tr>\n",
              "      <th>3</th>\n",
              "      <td>generative-dog-images/resized/n02106166_1429.jpg</td>\n",
              "      <td>n02106166_1429</td>\n",
              "      <td>Border_collie</td>\n",
              "      <td>/content/gdrive/My Drive/Colab Notebooks/deep_...</td>\n",
              "    </tr>\n",
              "    <tr>\n",
              "      <th>4</th>\n",
              "      <td>generative-dog-images/resized/n02093754_2276.jpg</td>\n",
              "      <td>n02093754_2276</td>\n",
              "      <td>Border_terrier</td>\n",
              "      <td>/content/gdrive/My Drive/Colab Notebooks/deep_...</td>\n",
              "    </tr>\n",
              "  </tbody>\n",
              "</table>\n",
              "</div>"
            ],
            "text/plain": [
              "                                              f_name  ...                                             g_name\n",
              "0  generative-dog-images/resized/n02109961_16718.jpg  ...  /content/gdrive/My Drive/Colab Notebooks/deep_...\n",
              "1   generative-dog-images/resized/n02113799_5009.jpg  ...  /content/gdrive/My Drive/Colab Notebooks/deep_...\n",
              "2   generative-dog-images/resized/n02091032_6587.jpg  ...  /content/gdrive/My Drive/Colab Notebooks/deep_...\n",
              "3   generative-dog-images/resized/n02106166_1429.jpg  ...  /content/gdrive/My Drive/Colab Notebooks/deep_...\n",
              "4   generative-dog-images/resized/n02093754_2276.jpg  ...  /content/gdrive/My Drive/Colab Notebooks/deep_...\n",
              "\n",
              "[5 rows x 4 columns]"
            ]
          },
          "metadata": {
            "tags": []
          },
          "execution_count": 15
        }
      ]
    },
    {
      "cell_type": "code",
      "metadata": {
        "id": "RnoGypiwsooZ",
        "colab_type": "code",
        "colab": {
          "base_uri": "https://localhost:8080/",
          "height": 204
        },
        "outputId": "a735957b-1ac6-4ed1-aa36-f77cda80aab2"
      },
      "source": [
        "train_df['colab_path'] = train_df['f_subname'].apply(lambda x: f\"resized/{x}.jpg\")\n",
        "train_df.head()"
      ],
      "execution_count": 16,
      "outputs": [
        {
          "output_type": "execute_result",
          "data": {
            "text/html": [
              "<div>\n",
              "<style scoped>\n",
              "    .dataframe tbody tr th:only-of-type {\n",
              "        vertical-align: middle;\n",
              "    }\n",
              "\n",
              "    .dataframe tbody tr th {\n",
              "        vertical-align: top;\n",
              "    }\n",
              "\n",
              "    .dataframe thead th {\n",
              "        text-align: right;\n",
              "    }\n",
              "</style>\n",
              "<table border=\"1\" class=\"dataframe\">\n",
              "  <thead>\n",
              "    <tr style=\"text-align: right;\">\n",
              "      <th></th>\n",
              "      <th>f_name</th>\n",
              "      <th>f_subname</th>\n",
              "      <th>label</th>\n",
              "      <th>g_name</th>\n",
              "      <th>colab_path</th>\n",
              "    </tr>\n",
              "  </thead>\n",
              "  <tbody>\n",
              "    <tr>\n",
              "      <th>0</th>\n",
              "      <td>generative-dog-images/resized/n02109961_16718.jpg</td>\n",
              "      <td>n02109961_16718</td>\n",
              "      <td>Eskimo_dog</td>\n",
              "      <td>/content/gdrive/My Drive/Colab Notebooks/deep_...</td>\n",
              "      <td>resized/n02109961_16718.jpg</td>\n",
              "    </tr>\n",
              "    <tr>\n",
              "      <th>1</th>\n",
              "      <td>generative-dog-images/resized/n02113799_5009.jpg</td>\n",
              "      <td>n02113799_5009</td>\n",
              "      <td>standard_poodle</td>\n",
              "      <td>/content/gdrive/My Drive/Colab Notebooks/deep_...</td>\n",
              "      <td>resized/n02113799_5009.jpg</td>\n",
              "    </tr>\n",
              "    <tr>\n",
              "      <th>2</th>\n",
              "      <td>generative-dog-images/resized/n02091032_6587.jpg</td>\n",
              "      <td>n02091032_6587</td>\n",
              "      <td>Italian_greyhound</td>\n",
              "      <td>/content/gdrive/My Drive/Colab Notebooks/deep_...</td>\n",
              "      <td>resized/n02091032_6587.jpg</td>\n",
              "    </tr>\n",
              "    <tr>\n",
              "      <th>3</th>\n",
              "      <td>generative-dog-images/resized/n02106166_1429.jpg</td>\n",
              "      <td>n02106166_1429</td>\n",
              "      <td>Border_collie</td>\n",
              "      <td>/content/gdrive/My Drive/Colab Notebooks/deep_...</td>\n",
              "      <td>resized/n02106166_1429.jpg</td>\n",
              "    </tr>\n",
              "    <tr>\n",
              "      <th>4</th>\n",
              "      <td>generative-dog-images/resized/n02093754_2276.jpg</td>\n",
              "      <td>n02093754_2276</td>\n",
              "      <td>Border_terrier</td>\n",
              "      <td>/content/gdrive/My Drive/Colab Notebooks/deep_...</td>\n",
              "      <td>resized/n02093754_2276.jpg</td>\n",
              "    </tr>\n",
              "  </tbody>\n",
              "</table>\n",
              "</div>"
            ],
            "text/plain": [
              "                                              f_name  ...                   colab_path\n",
              "0  generative-dog-images/resized/n02109961_16718.jpg  ...  resized/n02109961_16718.jpg\n",
              "1   generative-dog-images/resized/n02113799_5009.jpg  ...   resized/n02113799_5009.jpg\n",
              "2   generative-dog-images/resized/n02091032_6587.jpg  ...   resized/n02091032_6587.jpg\n",
              "3   generative-dog-images/resized/n02106166_1429.jpg  ...   resized/n02106166_1429.jpg\n",
              "4   generative-dog-images/resized/n02093754_2276.jpg  ...   resized/n02093754_2276.jpg\n",
              "\n",
              "[5 rows x 5 columns]"
            ]
          },
          "metadata": {
            "tags": []
          },
          "execution_count": 16
        }
      ]
    },
    {
      "cell_type": "markdown",
      "metadata": {
        "id": "22YgefOMsygT",
        "colab_type": "text"
      },
      "source": [
        "## Dataset"
      ]
    },
    {
      "cell_type": "code",
      "metadata": {
        "id": "zAG-FSl8tF0E",
        "colab_type": "code",
        "colab": {}
      },
      "source": [
        "def normalize(im):\n",
        "    \"\"\"Normalizes images with Imagenet stats.\"\"\"\n",
        "    imagenet_stats = np.array([[0.485, 0.456, 0.406], [0.229, 0.224, 0.225]])\n",
        "    return (im - imagenet_stats[0])/imagenet_stats[1]"
      ],
      "execution_count": 17,
      "outputs": []
    },
    {
      "cell_type": "markdown",
      "metadata": {
        "id": "Fi6uejcstHAx",
        "colab_type": "text"
      },
      "source": [
        "### Label to Index"
      ]
    },
    {
      "cell_type": "code",
      "metadata": {
        "id": "wF5zwoVTtIz6",
        "colab_type": "code",
        "colab": {}
      },
      "source": [
        "label2index = {val:i for i, val in enumerate(sorted(set(train_df['label'])))}"
      ],
      "execution_count": 18,
      "outputs": []
    },
    {
      "cell_type": "code",
      "metadata": {
        "id": "Org72s2gtKNW",
        "colab_type": "code",
        "colab": {}
      },
      "source": [
        "class DogsDataset(Dataset):\n",
        "    def __init__(self, df, transforms=False, colab=True):\n",
        "        self.df = df\n",
        "        self.transforms = transforms\n",
        "        if colab: self.files = np.array(df['colab_path'])\n",
        "        else: self.files = np.array(df['f_name'])\n",
        "        self.y = np.array(df['label'].map(label2index))\n",
        "        self.items = df.shape[0]\n",
        "        self.random_init()\n",
        "        \n",
        "    def random_init(self):\n",
        "        self.random = np.random.rand(self.items, 4)\n",
        "\n",
        "    def transform(self, x):\n",
        "        rdeg = (np.random.random()-0.5)*20\n",
        "        x = rotate_cv(x, rdeg)\n",
        "        x = random_crop(x)\n",
        "        if np.random.random() > 0.5: \n",
        "            x = np.fliplr(x).copy()\n",
        "        return x\n",
        "\n",
        "    def __len__(self):\n",
        "        return self.df.shape[0]\n",
        "    \n",
        "    def __getitem__(self, idx):\n",
        "        path = str(self.files[idx])\n",
        "        x = cv2.imread(path).astype(np.float32)\n",
        "        x = cv2.cvtColor(x, cv2.COLOR_BGR2RGB)/255\n",
        "        if self.transforms:\n",
        "            x = self.transform(x)\n",
        "        else:\n",
        "            x = center_crop(x)\n",
        "        x = normalize(x)\n",
        "        return np.rollaxis(x, 2), self.y[idx]"
      ],
      "execution_count": 19,
      "outputs": []
    },
    {
      "cell_type": "code",
      "metadata": {
        "id": "jjFkOaZJtR-T",
        "colab_type": "code",
        "colab": {}
      },
      "source": [
        "assert cv2.imread(train_df['colab_path'][0]) is not None"
      ],
      "execution_count": 20,
      "outputs": []
    },
    {
      "cell_type": "markdown",
      "metadata": {
        "id": "SHm0DYJQtTds",
        "colab_type": "text"
      },
      "source": [
        "## Train Test Split"
      ]
    },
    {
      "cell_type": "code",
      "metadata": {
        "id": "ma1ai4E1tVav",
        "colab_type": "code",
        "colab": {}
      },
      "source": [
        "from sklearn.model_selection import train_test_split\n",
        "train, val = train_test_split(train_df, test_size=0.2)\n",
        "\n",
        "train_ds = DogsDataset(train, transforms=True)\n",
        "valid_ds = DogsDataset(val, transforms=False)"
      ],
      "execution_count": 21,
      "outputs": []
    },
    {
      "cell_type": "code",
      "metadata": {
        "id": "_s6kU8ZNtWjW",
        "colab_type": "code",
        "colab": {}
      },
      "source": [
        "batch_size = 32\n",
        "train_dl = DataLoader(train_ds, batch_size=batch_size, shuffle=True)\n",
        "valid_dl = DataLoader(valid_ds, batch_size=batch_size)"
      ],
      "execution_count": 22,
      "outputs": []
    },
    {
      "cell_type": "code",
      "metadata": {
        "id": "d6y9HNQ-tXkO",
        "colab_type": "code",
        "colab": {
          "base_uri": "https://localhost:8080/",
          "height": 1000
        },
        "outputId": "45b5c9dc-9509-4cff-88ef-4f54053db690"
      },
      "source": [
        "next(iter(train_dl))"
      ],
      "execution_count": 23,
      "outputs": [
        {
          "output_type": "execute_result",
          "data": {
            "text/plain": [
              "[tensor([[[[-1.0730, -1.0393, -0.9968,  ..., -0.7740, -0.7783, -0.7902],\n",
              "           [-1.0829, -1.0513, -1.0338,  ..., -0.6955, -0.7428, -0.7683],\n",
              "           [-1.0433, -1.0124, -1.0091,  ..., -0.6880, -0.6939, -0.7073],\n",
              "           ...,\n",
              "           [-0.9913, -0.9062, -0.9280,  ..., -0.5290, -0.6518, -0.7051],\n",
              "           [-1.0022, -0.9339, -0.9513,  ..., -0.6822, -0.7209, -0.7291],\n",
              "           [-1.0630, -0.9836, -0.9290,  ..., -0.7669, -0.7756, -0.7636]],\n",
              " \n",
              "          [[-0.8450, -0.8105, -0.7670,  ..., -0.4422, -0.4386, -0.4508],\n",
              "           [-0.8551, -0.8227, -0.8049,  ..., -0.3786, -0.4023, -0.4284],\n",
              "           [-0.8146, -0.7830, -0.7796,  ..., -0.3375, -0.3425, -0.3550],\n",
              "           ...,\n",
              "           [-0.7073, -0.6274, -0.6491,  ..., -0.4623, -0.5994, -0.6560],\n",
              "           [-0.7161, -0.6502, -0.6680,  ..., -0.6023, -0.6529, -0.6484],\n",
              "           [-0.7937, -0.7130, -0.6578,  ..., -0.6610, -0.6725, -0.6577]],\n",
              " \n",
              "          [[-0.4796, -0.4452, -0.4019,  ..., -0.0852, -0.0645, -0.0981],\n",
              "           [-0.4613, -0.4280, -0.4092,  ..., -0.0485, -0.0503, -0.0997],\n",
              "           [-0.4145, -0.3830, -0.3796,  ..., -0.0136, -0.0190, -0.0321],\n",
              "           ...,\n",
              "           [-0.3179, -0.2335, -0.2546,  ..., -0.3230, -0.4380, -0.4850],\n",
              "           [-0.3304, -0.2627, -0.2811,  ..., -0.4380, -0.4836, -0.4820],\n",
              "           [-0.4339, -0.3548, -0.3008,  ..., -0.4707, -0.4821, -0.4674]]],\n",
              " \n",
              " \n",
              "         [[[-1.6411, -1.6780, -1.6925,  ..., -0.6810, -0.1445,  0.4564],\n",
              "           [-1.4211, -1.6545, -1.5600,  ...,  0.8115,  0.5756,  0.4016],\n",
              "           [-1.6622, -1.6401, -1.4849,  ...,  0.3888,  0.1221, -0.0595],\n",
              "           ...,\n",
              "           [-1.4365, -1.4062, -1.4054,  ...,  2.0225,  1.6966,  0.1256],\n",
              "           [-1.3992, -1.3869, -1.3537,  ...,  1.2821,  1.3129,  1.5618],\n",
              "           [-1.4185, -1.4083, -1.3797,  ...,  0.5714,  1.1751,  1.8454]],\n",
              " \n",
              "          [[-1.8984, -1.9343, -1.9398,  ...,  0.0772,  0.5987,  1.1907],\n",
              "           [-1.6577, -1.8946, -1.7811,  ...,  1.5909,  1.3066,  1.0737],\n",
              "           [-1.9024, -1.8788, -1.7058,  ...,  1.1074,  0.7820,  0.5173],\n",
              "           ...,\n",
              "           [-1.3216, -1.2906, -1.2898,  ...,  2.0767,  1.7162,  0.1117],\n",
              "           [-1.2834, -1.2709, -1.2370,  ...,  1.3635,  1.3765,  1.6232],\n",
              "           [-1.3032, -1.2928, -1.2635,  ...,  0.6436,  1.2583,  1.9619]],\n",
              " \n",
              "          [[-1.6329, -1.6710, -1.6971,  ..., -0.6296, -0.1644,  0.3372],\n",
              "           [-1.3932, -1.6291, -1.5498,  ...,  0.7979,  0.4889,  0.2100],\n",
              "           [-1.6369, -1.6155, -1.4717,  ...,  0.3348, -0.0054, -0.3107],\n",
              "           ...,\n",
              "           [-1.1980, -1.1672, -1.1664,  ...,  2.2167,  1.9157,  0.3808],\n",
              "           [-1.1601, -1.1476, -1.1138,  ...,  1.4427,  1.5317,  1.8372],\n",
              "           [-1.1797, -1.1694, -1.1402,  ...,  0.6691,  1.2996,  2.0153]]],\n",
              " \n",
              " \n",
              "         [[[-1.9338, -1.9199, -1.5603,  ...,  1.1468,  1.3337,  0.0437],\n",
              "           [-1.8840, -1.8402, -1.6538,  ...,  1.0986,  1.4443, -0.1821],\n",
              "           [-1.8546, -1.7690, -1.7891,  ...,  1.0567,  1.5112, -0.1154],\n",
              "           ...,\n",
              "           [ 1.2904,  1.3013,  1.3235,  ...,  1.0221,  1.0325,  0.9961],\n",
              "           [ 1.3182,  1.3182,  1.3389,  ...,  1.0433,  1.0440,  1.0103],\n",
              "           [ 1.3875,  1.3903,  1.3852,  ...,  1.0633,  1.0416,  1.0448]],\n",
              " \n",
              "          [[-1.6199, -1.6057, -1.2381,  ...,  1.4916,  1.3467, -0.3078],\n",
              "           [-1.6041, -1.5570, -1.3632,  ...,  1.4829,  1.5215, -0.4928],\n",
              "           [-1.5740, -1.4865, -1.5070,  ...,  1.4988,  1.6818, -0.3266],\n",
              "           ...,\n",
              "           [ 1.4486,  1.4598,  1.4825,  ...,  0.9643,  0.9749,  0.9509],\n",
              "           [ 1.4771,  1.4767,  1.4918,  ...,  0.9860,  0.9867,  0.9589],\n",
              "           [ 1.5408,  1.5438,  1.5215,  ...,  1.0064,  0.9842,  0.9875]],\n",
              " \n",
              "          [[-1.6868, -1.6727, -1.3066,  ...,  2.0599,  1.8964,  0.2204],\n",
              "           [-1.6536, -1.5966, -1.3871,  ...,  2.0338,  2.0469,  0.0149],\n",
              "           [-1.6236, -1.5223, -1.5221,  ...,  2.0151,  2.1873,  0.1737],\n",
              "           ...,\n",
              "           [ 1.5043,  1.5122,  1.5579,  ...,  0.7291,  0.7397,  0.7092],\n",
              "           [ 1.5533,  1.5539,  1.5834,  ...,  0.7746,  0.7732,  0.7400],\n",
              "           [ 1.6380,  1.6405,  1.6542,  ...,  0.8059,  0.7838,  0.7969]]],\n",
              " \n",
              " \n",
              "         ...,\n",
              " \n",
              " \n",
              "         [[[-0.1111, -0.0940, -0.0768,  ..., -1.8439, -1.8427, -1.8217],\n",
              "           [-0.1111, -0.0934, -0.0738,  ..., -1.8439, -1.8407, -1.8032],\n",
              "           [-0.1090, -0.0896, -0.0661,  ..., -1.8439, -1.8415, -1.8004],\n",
              "           ...,\n",
              "           [ 1.2503,  1.3140,  1.3376,  ...,  1.3557,  1.3108,  1.3250],\n",
              "           [ 1.2795,  1.3506,  1.4055,  ...,  1.4333,  1.4478,  1.4949],\n",
              "           [ 1.2961,  1.3850,  1.4353,  ...,  1.4950,  1.4767,  1.6001]],\n",
              " \n",
              "          [[-0.2817, -0.2642, -0.2467,  ..., -1.9307, -1.9335, -1.9595],\n",
              "           [-0.2817, -0.2636, -0.2436,  ..., -1.9307, -1.9340, -1.9690],\n",
              "           [-0.2795, -0.2598, -0.2357,  ..., -1.9307, -1.9326, -1.9627],\n",
              "           ...,\n",
              "           [ 1.3671,  1.4069,  1.4381,  ...,  1.3928,  1.3427,  1.3440],\n",
              "           [ 1.3846,  1.4513,  1.5066,  ...,  1.4723,  1.4733,  1.5177],\n",
              "           [ 1.3988,  1.4435,  1.5090,  ...,  1.5364,  1.5166,  1.6257]],\n",
              " \n",
              "          [[-0.4068, -0.3894, -0.3720,  ..., -1.7347, -1.7369, -1.7522],\n",
              "           [-0.4068, -0.3888, -0.3689,  ..., -1.7347, -1.7364, -1.7522],\n",
              "           [-0.4047, -0.3850, -0.3610,  ..., -1.7347, -1.7355, -1.7471],\n",
              "           ...,\n",
              "           [ 1.3549,  1.3971,  1.3856,  ...,  1.2777,  1.2278,  1.2288],\n",
              "           [ 1.3331,  1.3724,  1.4186,  ...,  1.3568,  1.3579,  1.4020],\n",
              "           [ 1.3162,  1.3709,  1.3914,  ...,  1.4234,  1.4011,  1.5096]]],\n",
              " \n",
              " \n",
              "         [[[-0.1405, -0.1694, -0.1693,  ...,  1.2720,  1.0955,  0.9686],\n",
              "           [-0.2411, -0.3110, -0.3228,  ...,  1.2937,  0.9984,  0.7419],\n",
              "           [-0.3514, -0.4429, -0.4852,  ...,  1.6214,  1.2495,  0.6852],\n",
              "           ...,\n",
              "           [-1.2520, -1.0801, -1.0303,  ...,  0.6820,  0.7647,  0.8244],\n",
              "           [-1.4508, -1.4451, -1.3404,  ...,  0.5604,  0.6547,  0.7321],\n",
              "           [-1.2466, -1.3443, -1.3655,  ...,  0.3919,  0.5322,  0.6221]],\n",
              " \n",
              "          [[ 0.7211,  0.6915,  0.6917,  ...,  1.7699,  1.5399,  1.3991],\n",
              "           [ 0.5838,  0.5206,  0.5167,  ...,  1.7597,  1.4243,  1.1418],\n",
              "           [ 0.4508,  0.3420,  0.3038,  ...,  2.0643,  1.6556,  1.0751],\n",
              "           ...,\n",
              "           [-0.7693, -0.6409, -0.6459,  ...,  0.7567,  0.8641,  0.9161],\n",
              "           [-0.9477, -1.0032, -0.9367,  ...,  0.5836,  0.7276,  0.7822],\n",
              "           [-0.7462, -0.8896, -0.9608,  ...,  0.4246,  0.5761,  0.6538]],\n",
              " \n",
              "          [[ 0.0746,  0.0518,  0.0427,  ...,  1.3911,  1.1584,  0.9893],\n",
              "           [-0.0304, -0.0732, -0.1125,  ...,  1.4195,  1.0747,  0.7838],\n",
              "           [-0.1220, -0.2059, -0.2759,  ...,  1.7458,  1.3135,  0.7173],\n",
              "           ...,\n",
              "           [-1.0960, -0.9028, -0.8691,  ...,  1.2609,  1.3496,  1.4188],\n",
              "           [-1.2946, -1.2630, -1.1470,  ...,  1.0783,  1.1965,  1.2799],\n",
              "           [-1.0978, -1.1841, -1.1875,  ...,  0.8900,  1.0398,  1.1302]]],\n",
              " \n",
              " \n",
              "         [[[ 0.0552,  0.0917,  0.1090,  ...,  0.1642, -0.3051, -0.5170],\n",
              "           [ 0.0519,  0.0168, -0.0346,  ...,  0.1806,  0.1553,  0.0716],\n",
              "           [-0.0208, -0.0618, -0.1385,  ...,  0.2432,  0.2402,  0.2780],\n",
              "           ...,\n",
              "           [-1.5492, -1.5651, -1.5463,  ..., -1.8123, -1.7790, -1.7413],\n",
              "           [-1.6224, -1.6044, -1.6672,  ..., -1.7141, -1.7003, -1.5937],\n",
              "           [-1.6076, -1.5809, -1.5615,  ..., -1.0267, -0.8849, -0.7685]],\n",
              " \n",
              "          [[ 0.1859,  0.2232,  0.2409,  ...,  0.0919, -0.3268, -0.5260],\n",
              "           [ 0.1825,  0.1466,  0.0941,  ...,  0.1688,  0.1812,  0.1063],\n",
              "           [ 0.1082,  0.0663, -0.0122,  ...,  0.2550,  0.2667,  0.3093],\n",
              "           ...,\n",
              "           [-1.4544, -1.4706, -1.4514,  ..., -1.6883, -1.6543, -1.6157],\n",
              "           [-1.5291, -1.5108, -1.5750,  ..., -1.5879, -1.5738, -1.4648],\n",
              "           [-1.5141, -1.4867, -1.4669,  ..., -0.8759, -0.7402, -0.6211]],\n",
              " \n",
              "          [[ 0.2678,  0.3050,  0.3226,  ...,  0.0907, -0.4081, -0.6274],\n",
              "           [ 0.2645,  0.2288,  0.1764,  ...,  0.1569,  0.1063,  0.0172],\n",
              "           [ 0.1906,  0.1488,  0.0707,  ...,  0.2636,  0.2491,  0.2809],\n",
              "           ...,\n",
              "           [-1.2605, -1.2767, -1.2576,  ..., -1.5109, -1.4770, -1.4386],\n",
              "           [-1.3350, -1.3167, -1.3806,  ..., -1.4109, -1.3969, -1.2884],\n",
              "           [-1.3200, -1.2927, -1.2730,  ..., -0.7051, -0.5670, -0.4484]]]],\n",
              "        dtype=torch.float64),\n",
              " tensor([ 95,  16,  48,   6,  76,  55,  11,  85,  73,  34,  70,  13,  89,  82,\n",
              "          16,   9,  85,  63,  16,  83,   4,  23,  15,  38,  33,  51,  42,  88,\n",
              "          36,  58,  65, 115])]"
            ]
          },
          "metadata": {
            "tags": []
          },
          "execution_count": 23
        }
      ]
    },
    {
      "cell_type": "markdown",
      "metadata": {
        "id": "ZKgLylxEtYqd",
        "colab_type": "text"
      },
      "source": [
        "## Resnet Model"
      ]
    },
    {
      "cell_type": "code",
      "metadata": {
        "id": "0KHMH8QqtbKp",
        "colab_type": "code",
        "colab": {
          "base_uri": "https://localhost:8080/",
          "height": 83,
          "referenced_widgets": [
            "bf2de20968554202abb76679072db0bb",
            "7c4e0e1474db432690426b1f134fee39",
            "505462dddb944b3ca030ada2ab7f80d8",
            "a6fb0b5faaef4baeb21d3adfbe8f184c",
            "5e49b392479e46628645848f0fbf604d",
            "4f8a5d76b11d4ed8bdff8bd4ceaf2eb5",
            "2d9d0ce0be6c428097959792a5d3ac77",
            "50587f6892154988b9c6d16f45c461c4"
          ]
        },
        "outputId": "3553c149-4649-4781-820b-e24e0a967b87"
      },
      "source": [
        "resnet = models.resnet34(pretrained=True)\n",
        "#resnet"
      ],
      "execution_count": 24,
      "outputs": [
        {
          "output_type": "stream",
          "text": [
            "Downloading: \"https://download.pytorch.org/models/resnet34-333f7ec4.pth\" to /root/.cache/torch/checkpoints/resnet34-333f7ec4.pth\n"
          ],
          "name": "stderr"
        },
        {
          "output_type": "display_data",
          "data": {
            "application/vnd.jupyter.widget-view+json": {
              "model_id": "bf2de20968554202abb76679072db0bb",
              "version_minor": 0,
              "version_major": 2
            },
            "text/plain": [
              "HBox(children=(FloatProgress(value=0.0, max=87306240.0), HTML(value='')))"
            ]
          },
          "metadata": {
            "tags": []
          }
        },
        {
          "output_type": "stream",
          "text": [
            "\n"
          ],
          "name": "stdout"
        }
      ]
    },
    {
      "cell_type": "code",
      "metadata": {
        "id": "-yM8euKhtcUC",
        "colab_type": "code",
        "colab": {
          "base_uri": "https://localhost:8080/",
          "height": 68
        },
        "outputId": "31a5d1fc-9d79-4d17-8072-ead7a1e25b24"
      },
      "source": [
        "layers = list(resnet.children())\n",
        "print(len(layers))\n",
        "layers[-2:]"
      ],
      "execution_count": 25,
      "outputs": [
        {
          "output_type": "stream",
          "text": [
            "10\n"
          ],
          "name": "stdout"
        },
        {
          "output_type": "execute_result",
          "data": {
            "text/plain": [
              "[AdaptiveAvgPool2d(output_size=(1, 1)),\n",
              " Linear(in_features=512, out_features=1000, bias=True)]"
            ]
          },
          "metadata": {
            "tags": []
          },
          "execution_count": 25
        }
      ]
    },
    {
      "cell_type": "code",
      "metadata": {
        "id": "UE4wx8dycgf_",
        "colab_type": "code",
        "colab": {
          "base_uri": "https://localhost:8080/",
          "height": 34
        },
        "outputId": "5247f3bc-9497-43e4-9a4e-b4fb14978dec"
      },
      "source": [
        "len(layers)"
      ],
      "execution_count": 26,
      "outputs": [
        {
          "output_type": "execute_result",
          "data": {
            "text/plain": [
              "10"
            ]
          },
          "metadata": {
            "tags": []
          },
          "execution_count": 26
        }
      ]
    },
    {
      "cell_type": "code",
      "metadata": {
        "id": "XCa8e-SntdSc",
        "colab_type": "code",
        "colab": {}
      },
      "source": [
        "class DogClassifier(nn.Module):\n",
        "    def __init__(self, num_classes):\n",
        "        super(DogClassifier, self).__init__()\n",
        "        resnet = models.resnet34(pretrained=True)\n",
        "        layers = list(resnet.children())[:8]\n",
        "        self.features1 = nn.Sequential(*layers[:6])\n",
        "        self.features2 = nn.Sequential(*layers[6:])\n",
        "        self.classifier = nn.Sequential(nn.BatchNorm1d(512), nn.Linear(512, num_classes))\n",
        "    \n",
        "    def forward(self, x):\n",
        "        x = self.features1(x)\n",
        "        x = self.features2(x)\n",
        "        x = F.relu(x)\n",
        "        x = nn.AdaptiveAvgPool2d((1,1))(x)\n",
        "        x = x.view(x.shape[0], -1)\n",
        "        x = self.classifier(x)\n",
        "        return x"
      ],
      "execution_count": 27,
      "outputs": []
    },
    {
      "cell_type": "markdown",
      "metadata": {
        "id": "oLPESOTsyzuj",
        "colab_type": "text"
      },
      "source": [
        ""
      ]
    },
    {
      "cell_type": "code",
      "metadata": {
        "id": "unAOUG3itej-",
        "colab_type": "code",
        "colab": {}
      },
      "source": [
        "# num_classes = len(label2index)\n",
        "# model = DogClassifier(num_classes).cuda()"
      ],
      "execution_count": 28,
      "outputs": []
    },
    {
      "cell_type": "markdown",
      "metadata": {
        "id": "fetGM1zjtfum",
        "colab_type": "text"
      },
      "source": [
        "## Learning Rate Finder"
      ]
    },
    {
      "cell_type": "code",
      "metadata": {
        "id": "UzkYH8r8uDnC",
        "colab_type": "code",
        "colab": {}
      },
      "source": [
        "def get_optimizer(model, lr = 0.01, wd = 0.0):\n",
        "    parameters = filter(lambda p: p.requires_grad, model.parameters())\n",
        "    optim = torch.optim.Adam(parameters, lr=lr)#, weight_decay=wd)\n",
        "    return optim\n",
        "\n",
        "def update_optimizer(optimizer, lr):\n",
        "    for i, param_group in enumerate(optimizer.param_groups):\n",
        "        param_group[\"lr\"] = lr[i]"
      ],
      "execution_count": 29,
      "outputs": []
    },
    {
      "cell_type": "code",
      "metadata": {
        "id": "pdgd_JnJuEiv",
        "colab_type": "code",
        "colab": {}
      },
      "source": [
        "def save_model(m, p): torch.save(m.state_dict(), p)\n",
        "    \n",
        "def load_model(m, p): m.load_state_dict(torch.load(p))\n",
        "\n",
        "def LR_range_finder(model, optimizer, train_ds, train_dl, lr_low=1e-4, lr_high=0.1, epochs=1):\n",
        "    losses = []\n",
        "    p = grootpath/\"mode_tmp.pth\"\n",
        "    save_model(model, str(p))\n",
        "    iterations = epochs * len(train_dl)\n",
        "    pbar = tqdm(total=iterations)\n",
        "    delta = (lr_high - lr_low)/iterations\n",
        "    lrs = [lr_low + i*delta for i in range(iterations)]\n",
        "    model.train()\n",
        "    ind = 0\n",
        "    prev_loss = 0\n",
        "    for i in range(epochs):\n",
        "        train_ds.random_init()\n",
        "        for x,y in train_dl:\n",
        "            lr = lrs[ind]\n",
        "            update_optimizer(optimizer, [lr/9, lr/3, lr])\n",
        "            x = x.float().cuda()\n",
        "            y = y.long().cuda()\n",
        "            # x, y = normalize_tensors(x, y)\n",
        "            out = model(x)\n",
        "            loss = F.cross_entropy(out, y)\n",
        "            optimizer.zero_grad()\n",
        "            # with amp.scale_loss(loss, optimizer) as scaled_loss:\n",
        "            #     scaled_loss.backward()\n",
        "            optimizer.zero_grad()\n",
        "            loss.backward()\n",
        "            optimizer.step()\n",
        "            losses.append((prev_loss + loss.item())/2)\n",
        "            prev_loss = loss.item()\n",
        "            ind +=1\n",
        "            pbar.update()\n",
        "            \n",
        "    load_model(model, str(p))\n",
        "    return lrs[1:], losses[1:]"
      ],
      "execution_count": 30,
      "outputs": []
    },
    {
      "cell_type": "code",
      "metadata": {
        "id": "KKtaEj5ruFv-",
        "colab_type": "code",
        "colab": {}
      },
      "source": [
        "def cosine_segment(start_lr, end_lr, iterations):\n",
        "    i = np.arange(iterations)\n",
        "    c_i = 1 + np.cos(i*np.pi/iterations)\n",
        "    return end_lr + (start_lr - end_lr)/2 *c_i\n",
        "\n",
        "def get_cosine_triangular_lr(max_lr, iterations):\n",
        "    min_start, min_end = max_lr/10, max_lr/100\n",
        "    iter1 = int(0.2*iterations)\n",
        "    iter2 = iterations - iter1\n",
        "    segs = [cosine_segment(min_start, max_lr, iter1), cosine_segment(max_lr, min_end, iter2)]\n",
        "    return np.concatenate(segs)"
      ],
      "execution_count": 31,
      "outputs": []
    },
    {
      "cell_type": "code",
      "metadata": {
        "id": "vmnpJff1uG-q",
        "colab_type": "code",
        "colab": {
          "base_uri": "https://localhost:8080/",
          "height": 265
        },
        "outputId": "ef15334a-ae3f-494c-f405-e9fe18f666af"
      },
      "source": [
        "N = len(train_ds)*20\n",
        "lr = get_cosine_triangular_lr(0.01, N)\n",
        "plt.plot(list(range(N)), lr)\n",
        "plt.show()"
      ],
      "execution_count": 32,
      "outputs": [
        {
          "output_type": "display_data",
          "data": {
            "image/png": "[encoded data removed]",
            "text/plain": [
              "<Figure size 432x288 with 1 Axes>"
            ]
          },
          "metadata": {
            "tags": [],
            "needs_background": "light"
          }
        }
      ]
    },
    {
      "cell_type": "code",
      "metadata": {
        "id": "nJ7WUQSquIM-",
        "colab_type": "code",
        "colab": {}
      },
      "source": [
        "def val_metric(model, valid_dl):\n",
        "    model.eval()\n",
        "    total = 0\n",
        "    sum_loss = 0\n",
        "    correct = 0\n",
        "    with torch.no_grad():\n",
        "        for x, y in valid_dl:\n",
        "            x = x.float().cuda()\n",
        "            y = y.long().cuda()\n",
        "            # x, y = normalize_tensors(x, y)\n",
        "            batch = y.shape[0]\n",
        "            out = model(x)\n",
        "            pred = torch.max(out, 1)[1]\n",
        "            loss = F.cross_entropy(out, y)\n",
        "            sum_loss += batch*(loss.item())\n",
        "            total += batch\n",
        "            correct += (pred == y).float().sum().item()\n",
        "    \n",
        "    return sum_loss/total, correct/total"
      ],
      "execution_count": 33,
      "outputs": []
    },
    {
      "cell_type": "code",
      "metadata": {
        "id": "dFYWMHYFuJ5N",
        "colab_type": "code",
        "colab": {}
      },
      "source": [
        "def train_epoch(model, train_ds, train_dl, optimizer, lrs, idx, epoch, pbar):\n",
        "    model.train()\n",
        "    train_ds.random_init()\n",
        "    total = 0\n",
        "    sum_loss = 0\n",
        "    for x,y in train_dl:\n",
        "        lr = lrs[idx]\n",
        "        x = x.float().cuda()\n",
        "        y = y.long().cuda()\n",
        "        update_optimizer(optimizer, [lr/4, lr/2, lr])\n",
        "        # x, y = normalize_tensors(x, y)\n",
        "        batch = y.shape[0]\n",
        "        out = model(x)\n",
        "        loss = F.cross_entropy(out, y)\n",
        "        optimizer.zero_grad()\n",
        "        ## mixed precision\n",
        "        # with amp.scale_loss(loss, optimizer) as scaled_loss:\n",
        "        #     scaled_loss.backward()\n",
        "        optimizer.zero_grad()\n",
        "        loss.backward()\n",
        "        optimizer.step()\n",
        "        pbar.update()\n",
        "        idx += 1\n",
        "        total += batch\n",
        "        sum_loss += batch*(loss.item())\n",
        "    train_loss = sum_loss/total\n",
        "    return train_loss, idx"
      ],
      "execution_count": 34,
      "outputs": []
    },
    {
      "cell_type": "code",
      "metadata": {
        "id": "9zrTuiozuLB6",
        "colab_type": "code",
        "colab": {}
      },
      "source": [
        "def train_a_few_epocs(model, optimizer, train_ds, train_dl, valid_dl, max_lr, epochs = 60, fixed_lr=False):\n",
        "    \n",
        "    iterations = epochs*len(train_dl)\n",
        "    pbar = tqdm(total=iterations)\n",
        "    best_val_acc = 0.0\n",
        "    idx = 0\n",
        "    stats = []\n",
        "    lrs = get_cosine_triangular_lr(max_lr, iterations)\n",
        "    if fixed_lr:\n",
        "        lrs = [max_lr for i in range(iterations)]\n",
        "    for i in range(epochs):\n",
        "        print(\"using lr \", i, lrs[idx], idx)\n",
        "        train_loss, idx = train_epoch(model, train_ds, train_dl, optimizer, lrs, idx, i, pbar)\n",
        "        val_loss, val_acc = val_metric(model, valid_dl)\n",
        "        print(\"train_loss %.3f val_loss %.3f val_acc %.3f \\n\" % \n",
        "              (train_loss, val_loss, val_acc))\n",
        "        stats.append((idx, train_loss, val_loss, val_acc))\n",
        "        if val_acc > best_val_acc:\n",
        "            best_val_acc = val_acc\n",
        "            path = \"{0}/models/model_imagenet4_acc_{1:.0f}.pth\".format(grootpath, 100*val_acc) \n",
        "            save_model(model, path)\n",
        "            print(path)\n",
        "    return stats"
      ],
      "execution_count": 35,
      "outputs": []
    },
    {
      "cell_type": "code",
      "metadata": {
        "id": "zXybYn1VuMfQ",
        "colab_type": "code",
        "colab": {
          "base_uri": "https://localhost:8080/",
          "height": 1000,
          "referenced_widgets": [
            "5fbfa7c2eb204532a2a74806707801ec",
            "61337ef121e34dfe8f9ce1616bcce155",
            "4dda1adfbc8c44cda1ed57283a084f06",
            "75e30cad534341eab289cf92a892e060",
            "13a4bbb47536415fb9f3177fb491f6f4",
            "c724fcd84aae455882c98eb6c2ce7418",
            "877ac66c645b428cab3dee611c366d77",
            "9222502561194780abd49e330c471c02"
          ]
        },
        "outputId": "5b1a3889-5009-4ccd-fc44-ada786261e41"
      },
      "source": [
        "num_classes = len(label2index)\n",
        "model = DogClassifier(num_classes).cuda()\n",
        "optimizer = get_optimizer(model)\n",
        "# optimizer = optim.LBFGS([img], optim_state)\n",
        "# optimizer = optim.Adam([img], optim_state)\n",
        "# lrs, losses = LR_range_finder(model, optimizer, train_ds, train_dl)\n",
        "stats = train_a_few_epocs(model, optimizer, train_ds, train_dl, valid_dl, max_lr=0.1, epochs = 50, fixed_lr=False)"
      ],
      "execution_count": 36,
      "outputs": [
        {
          "output_type": "display_data",
          "data": {
            "application/vnd.jupyter.widget-view+json": {
              "model_id": "5fbfa7c2eb204532a2a74806707801ec",
              "version_minor": 0,
              "version_major": 2
            },
            "text/plain": [
              "HBox(children=(FloatProgress(value=0.0, max=25750.0), HTML(value='')))"
            ]
          },
          "metadata": {
            "tags": []
          }
        },
        {
          "output_type": "stream",
          "text": [
            "using lr  0 0.009999999999999995 0\n",
            "train_loss 5.160 val_loss 12.120 val_acc 0.020 \n",
            "\n",
            "/content/gdrive/My Drive/Colab Notebooks/deep_learning/DoggyGANs/models/model_imagenet4_acc_2.pth\n",
            "using lr  1 0.012202456766718078 515\n",
            "train_loss 4.583 val_loss 5.139 val_acc 0.049 \n",
            "\n",
            "/content/gdrive/My Drive/Colab Notebooks/deep_learning/DoggyGANs/models/model_imagenet4_acc_5.pth\n",
            "using lr  2 0.018594235253127367 1030\n",
            "train_loss 4.222 val_loss 4.434 val_acc 0.054 \n",
            "\n",
            "/content/gdrive/My Drive/Colab Notebooks/deep_learning/DoggyGANs/models/model_imagenet4_acc_5.pth\n",
            "using lr  3 0.02854966364683871 1545\n",
            "train_loss 4.032 val_loss 4.511 val_acc 0.080 \n",
            "\n",
            "/content/gdrive/My Drive/Colab Notebooks/deep_learning/DoggyGANs/models/model_imagenet4_acc_8.pth\n",
            "using lr  4 0.041094235253127366 2060\n",
            "train_loss 3.901 val_loss 4.395 val_acc 0.073 \n",
            "\n",
            "using lr  5 0.055 2575\n",
            "train_loss 3.810 val_loss 11.570 val_acc 0.084 \n",
            "\n",
            "/content/gdrive/My Drive/Colab Notebooks/deep_learning/DoggyGANs/models/model_imagenet4_acc_8.pth\n",
            "using lr  6 0.06890576474687263 3090\n",
            "train_loss 3.807 val_loss 4.042 val_acc 0.107 \n",
            "\n",
            "/content/gdrive/My Drive/Colab Notebooks/deep_learning/DoggyGANs/models/model_imagenet4_acc_11.pth\n",
            "using lr  7 0.08145033635316129 3605\n",
            "train_loss 3.737 val_loss 6.422 val_acc 0.081 \n",
            "\n",
            "using lr  8 0.09140576474687263 4120\n",
            "train_loss 3.655 val_loss 4.588 val_acc 0.101 \n",
            "\n",
            "using lr  9 0.09779754323328191 4635\n",
            "train_loss 3.507 val_loss 3.763 val_acc 0.153 \n",
            "\n",
            "/content/gdrive/My Drive/Colab Notebooks/deep_learning/DoggyGANs/models/model_imagenet4_acc_15.pth\n",
            "using lr  10 0.1 5150\n",
            "train_loss 3.364 val_loss 4.058 val_acc 0.137 \n",
            "\n",
            "using lr  11 0.09984740801978985 5665\n",
            "train_loss 3.235 val_loss 3.625 val_acc 0.205 \n",
            "\n",
            "/content/gdrive/My Drive/Colab Notebooks/deep_learning/DoggyGANs/models/model_imagenet4_acc_21.pth\n",
            "using lr  12 0.09939057285945932 6180\n",
            "train_loss 3.104 val_loss 3.408 val_acc 0.231 \n",
            "\n",
            "/content/gdrive/My Drive/Colab Notebooks/deep_learning/DoggyGANs/models/model_imagenet4_acc_23.pth\n",
            "using lr  13 0.098632311059685 6695\n",
            "train_loss 2.983 val_loss 3.602 val_acc 0.212 \n",
            "\n",
            "using lr  14 0.09757729755661011 7210\n",
            "train_loss 2.860 val_loss 3.349 val_acc 0.219 \n",
            "\n",
            "using lr  15 0.0962320368593087 7725\n",
            "train_loss 2.772 val_loss 3.364 val_acc 0.235 \n",
            "\n",
            "/content/gdrive/My Drive/Colab Notebooks/deep_learning/DoggyGANs/models/model_imagenet4_acc_23.pth\n",
            "using lr  16 0.09460482294732421 8240\n",
            "train_loss 2.646 val_loss 2.982 val_acc 0.278 \n",
            "\n",
            "/content/gdrive/My Drive/Colab Notebooks/deep_learning/DoggyGANs/models/model_imagenet4_acc_28.pth\n",
            "using lr  17 0.09270568813552757 8755\n",
            "train_loss 2.555 val_loss 3.019 val_acc 0.288 \n",
            "\n",
            "/content/gdrive/My Drive/Colab Notebooks/deep_learning/DoggyGANs/models/model_imagenet4_acc_29.pth\n",
            "using lr  18 0.0905463412215599 9270\n",
            "train_loss 2.478 val_loss 2.939 val_acc 0.306 \n",
            "\n",
            "/content/gdrive/My Drive/Colab Notebooks/deep_learning/DoggyGANs/models/model_imagenet4_acc_31.pth\n",
            "using lr  19 0.08814009529720154 9785\n",
            "train_loss 2.326 val_loss 2.768 val_acc 0.330 \n",
            "\n",
            "/content/gdrive/My Drive/Colab Notebooks/deep_learning/DoggyGANs/models/model_imagenet4_acc_33.pth\n",
            "using lr  20 0.0855017856687341 10300\n",
            "train_loss 2.251 val_loss 2.868 val_acc 0.318 \n",
            "\n",
            "using lr  21 0.08264767839234409 10815\n",
            "train_loss 2.182 val_loss 2.585 val_acc 0.376 \n",
            "\n",
            "/content/gdrive/My Drive/Colab Notebooks/deep_learning/DoggyGANs/models/model_imagenet4_acc_38.pth\n",
            "using lr  22 0.07959536998847742 11330\n",
            "train_loss 2.068 val_loss 2.543 val_acc 0.394 \n",
            "\n",
            "/content/gdrive/My Drive/Colab Notebooks/deep_learning/DoggyGANs/models/model_imagenet4_acc_39.pth\n",
            "using lr  23 0.07636367895343947 11845\n",
            "train_loss 1.986 val_loss 2.740 val_acc 0.363 \n",
            "\n",
            "using lr  24 0.07297252973710756 12360\n",
            "train_loss 1.907 val_loss 2.489 val_acc 0.407 \n",
            "\n",
            "/content/gdrive/My Drive/Colab Notebooks/deep_learning/DoggyGANs/models/model_imagenet4_acc_41.pth\n",
            "using lr  25 0.06944282990207196 12875\n",
            "train_loss 1.818 val_loss 2.446 val_acc 0.407 \n",
            "\n",
            "using lr  26 0.0657963412215599 13390\n",
            "train_loss 1.734 val_loss 2.324 val_acc 0.430 \n",
            "\n",
            "/content/gdrive/My Drive/Colab Notebooks/deep_learning/DoggyGANs/models/model_imagenet4_acc_43.pth\n",
            "using lr  27 0.062055545510867324 13905\n",
            "train_loss 1.647 val_loss 2.423 val_acc 0.405 \n",
            "\n",
            "using lr  28 0.05824350601949144 14420\n",
            "train_loss 1.567 val_loss 2.496 val_acc 0.422 \n",
            "\n",
            "using lr  29 0.05438372523852833 14935\n",
            "train_loss 1.490 val_loss 2.357 val_acc 0.453 \n",
            "\n",
            "/content/gdrive/My Drive/Colab Notebooks/deep_learning/DoggyGANs/models/model_imagenet4_acc_45.pth\n",
            "using lr  30 0.0505 15450\n",
            "train_loss 1.398 val_loss 2.301 val_acc 0.435 \n",
            "\n",
            "using lr  31 0.046616274761471684 15965\n",
            "train_loss 1.347 val_loss 2.831 val_acc 0.429 \n",
            "\n",
            "using lr  32 0.04275649398050858 16480\n",
            "train_loss 1.241 val_loss 2.373 val_acc 0.462 \n",
            "\n",
            "/content/gdrive/My Drive/Colab Notebooks/deep_learning/DoggyGANs/models/model_imagenet4_acc_46.pth\n",
            "using lr  33 0.03894445448913269 16995\n",
            "train_loss 1.157 val_loss 2.224 val_acc 0.477 \n",
            "\n",
            "/content/gdrive/My Drive/Colab Notebooks/deep_learning/DoggyGANs/models/model_imagenet4_acc_48.pth\n",
            "using lr  34 0.03520365877844011 17510\n",
            "train_loss 1.096 val_loss 2.374 val_acc 0.486 \n",
            "\n",
            "/content/gdrive/My Drive/Colab Notebooks/deep_learning/DoggyGANs/models/model_imagenet4_acc_49.pth\n",
            "using lr  35 0.03155717009792806 18025\n",
            "train_loss 1.030 val_loss 2.236 val_acc 0.492 \n",
            "\n",
            "/content/gdrive/My Drive/Colab Notebooks/deep_learning/DoggyGANs/models/model_imagenet4_acc_49.pth\n",
            "using lr  36 0.02802747026289244 18540\n",
            "train_loss 0.974 val_loss 2.162 val_acc 0.488 \n",
            "\n",
            "using lr  37 0.024636321046560536 19055\n",
            "train_loss 0.910 val_loss 2.172 val_acc 0.485 \n",
            "\n",
            "using lr  38 0.021404630011522586 19570\n",
            "train_loss 0.843 val_loss 2.434 val_acc 0.494 \n",
            "\n",
            "/content/gdrive/My Drive/Colab Notebooks/deep_learning/DoggyGANs/models/model_imagenet4_acc_49.pth\n",
            "using lr  39 0.018352321607655916 20085\n",
            "train_loss 0.802 val_loss 2.411 val_acc 0.492 \n",
            "\n",
            "using lr  40 0.0154982143312659 20600\n",
            "train_loss 0.740 val_loss 2.741 val_acc 0.493 \n",
            "\n",
            "using lr  41 0.01285990470279847 21115\n",
            "train_loss 0.701 val_loss 2.271 val_acc 0.509 \n",
            "\n",
            "/content/gdrive/My Drive/Colab Notebooks/deep_learning/DoggyGANs/models/model_imagenet4_acc_51.pth\n",
            "using lr  42 0.010453658778440109 21630\n",
            "train_loss 0.655 val_loss 2.296 val_acc 0.497 \n",
            "\n",
            "using lr  43 0.008294311864472437 22145\n",
            "train_loss 0.631 val_loss 2.440 val_acc 0.498 \n",
            "\n",
            "using lr  44 0.0063951770526757944 22660\n",
            "train_loss 0.592 val_loss 2.345 val_acc 0.505 \n",
            "\n",
            "using lr  45 0.004767963140691307 23175\n",
            "train_loss 0.578 val_loss 2.360 val_acc 0.506 \n",
            "\n",
            "using lr  46 0.0034227024433899004 23690\n",
            "train_loss 0.547 val_loss 2.585 val_acc 0.512 \n",
            "\n",
            "/content/gdrive/My Drive/Colab Notebooks/deep_learning/DoggyGANs/models/model_imagenet4_acc_51.pth\n",
            "using lr  47 0.0023676889403150105 24205\n",
            "train_loss 0.527 val_loss 2.553 val_acc 0.506 \n",
            "\n",
            "using lr  48 0.001609427140540686 24720\n",
            "train_loss 0.522 val_loss 2.352 val_acc 0.511 \n",
            "\n",
            "using lr  49 0.0011525919802101658 25235\n",
            "train_loss 0.508 val_loss 2.508 val_acc 0.507 \n",
            "\n"
          ],
          "name": "stdout"
        }
      ]
    },
    {
      "cell_type": "code",
      "metadata": {
        "id": "AqTFMogusVxg",
        "colab_type": "code",
        "colab": {
          "base_uri": "https://localhost:8080/",
          "height": 34
        },
        "outputId": "12070969-7f1e-4b96-b737-e9afb11cea96"
      },
      "source": [
        "grootpath"
      ],
      "execution_count": 37,
      "outputs": [
        {
          "output_type": "execute_result",
          "data": {
            "text/plain": [
              "PosixPath('/content/gdrive/My Drive/Colab Notebooks/deep_learning/DoggyGANs')"
            ]
          },
          "metadata": {
            "tags": []
          },
          "execution_count": 37
        }
      ]
    },
    {
      "cell_type": "code",
      "metadata": {
        "id": "xu4xC94a_LNm",
        "colab_type": "code",
        "colab": {
          "base_uri": "https://localhost:8080/",
          "height": 71
        },
        "outputId": "a1ed5a64-0205-47bb-eafb-d07cd7878220"
      },
      "source": [
        "torch.save(model, grootpath/'ResnetClassifier.pth')"
      ],
      "execution_count": 40,
      "outputs": [
        {
          "output_type": "stream",
          "text": [
            "/usr/local/lib/python3.6/dist-packages/torch/serialization.py:402: UserWarning: Couldn't retrieve source code for container of type DogClassifier. It won't be checked for correctness upon loading.\n",
            "  \"type \" + obj.__name__ + \". It won't be checked \"\n"
          ],
          "name": "stderr"
        }
      ]
    },
    {
      "cell_type": "code",
      "metadata": {
        "id": "sjYXl_1NBHiU",
        "colab_type": "code",
        "colab": {}
      },
      "source": [
        "model_stats = pd.DataFrame({'idx': [val[0] for val in stats],\n",
        "                            'train_loss': [val[1] for val in stats],\n",
        "                            'val_loss': [val[2] for val in stats],\n",
        "                            'val_accuracy': [val[3] for val in stats]})\n",
        "\n",
        "model_stats.to_csv(grootpath/\"resnet_model_stats.csv\")"
      ],
      "execution_count": 44,
      "outputs": []
    },
    {
      "cell_type": "code",
      "metadata": {
        "id": "Lbyh7N6hCR8l",
        "colab_type": "code",
        "colab": {}
      },
      "source": [
        ""
      ],
      "execution_count": null,
      "outputs": []
    }
  ]
}