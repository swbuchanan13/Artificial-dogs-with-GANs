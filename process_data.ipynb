{
 "cells": [
  {
   "cell_type": "markdown",
   "metadata": {},
   "source": [
    "# Check for \"data\" folder"
   ]
  },
  {
   "cell_type": "code",
   "execution_count": 1,
   "metadata": {},
   "outputs": [],
   "source": [
    "import os"
   ]
  },
  {
   "cell_type": "code",
   "execution_count": 23,
   "metadata": {},
   "outputs": [
    {
     "name": "stdout",
     "output_type": "stream",
     "text": [
      "Directory is properly structured!\n"
     ]
    }
   ],
   "source": [
    "def check_dir():\n",
    "    \"\"\"\n",
    "    This funciton will check in your current working directory to ensure that you\n",
    "    have the proper file structure.\n",
    "    \"\"\"\n",
    "    if os.path.exists(\"./data\"): \n",
    "        assert os.path.exists(f'./data/Annotation')\n",
    "        assert os.path.exists(f'./data/all-dogs')\n",
    "        print('Directory is properly structured!')\n",
    "    else: \n",
    "        return f\"Please create 'data' folder\"\n",
    "\n",
    "check_dir()"
   ]
  },
  {
   "cell_type": "code",
   "execution_count": 22,
   "metadata": {},
   "outputs": [],
   "source": []
  },
  {
   "cell_type": "code",
   "execution_count": null,
   "metadata": {},
   "outputs": [],
   "source": []
  }
 ],
 "metadata": {
  "kernelspec": {
   "display_name": "Python 3",
   "language": "python",
   "name": "python3"
  },
  "language_info": {
   "codemirror_mode": {
    "name": "ipython",
    "version": 3
   },
   "file_extension": ".py",
   "mimetype": "text/x-python",
   "name": "python",
   "nbconvert_exporter": "python",
   "pygments_lexer": "ipython3",
   "version": "3.7.7"
  }
 },
 "nbformat": 4,
 "nbformat_minor": 4
}
